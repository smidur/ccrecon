{
 "cells": [
  {
   "cell_type": "code",
   "execution_count": 1,
   "id": "4064cf95-5341-4c28-a8af-f24335b865db",
   "metadata": {},
   "outputs": [],
   "source": [
    "import pandas as pd"
   ]
  },
  {
   "cell_type": "code",
   "execution_count": 2,
   "id": "c45a4ffa-526a-4ce9-9e2f-8151061f2719",
   "metadata": {},
   "outputs": [],
   "source": [
    "pc = pd.read_excel('pelecard_data.xlsx', dtype='str')"
   ]
  },
  {
   "cell_type": "code",
   "execution_count": 3,
   "id": "7d04c019-013e-40e5-8b47-e482b3652c1b",
   "metadata": {},
   "outputs": [],
   "source": [
    "#pc,"
   ]
  },
  {
   "cell_type": "code",
   "execution_count": 4,
   "id": "9a2c451f-2376-46be-80c8-28d15ac5a781",
   "metadata": {},
   "outputs": [
    {
     "data": {
      "text/plain": [
       "Index(['מספר מסוף', 'שם עסק', 'תאריך ושעה', 'מספר ריכוז', 'מספר שובר',\n",
       "       'מספר כרטיס אשראי', 'תוקף', 'חברה סולקת', 'מותג', 'סוג עסקה',\n",
       "       'מספר אישור', 'סוג אשראי', 'סכום', 'מטבע', 'מספר תשלומים',\n",
       "       'תשלום ראשון', 'תשלום קבוע', 'פרטים נוספים', 'חברה מנפיקה', 'ת.ז',\n",
       "       'מזהה עסקה', 'טוקן', 'מקור כרטיס האשראי', 'סטאטוס', 'קוד סטאטוס'],\n",
       "      dtype='object')"
      ]
     },
     "execution_count": 4,
     "metadata": {},
     "output_type": "execute_result"
    }
   ],
   "source": [
    "pc.columns"
   ]
  },
  {
   "cell_type": "code",
   "execution_count": 5,
   "id": "dc7cef4c-bfd2-42e1-8b7d-a80264adaff9",
   "metadata": {},
   "outputs": [],
   "source": [
    "col_names_to_english = {\n",
    "                        'מספר מסוף': 'aaa', \n",
    "                        'שם עסק': 'bbb', \n",
    "                        'תאריך ושעה': 'trx_time', \n",
    "                        'מספר ריכוז': 'conc_num', \n",
    "                        'מספר שובר': 'voucher_num', \n",
    "                        'מספר כרטיס אשראי': 'card_num', \n",
    "                        'תוקף': 'card_exp', \n",
    "                        'חברה סולקת': 'ccc', \n",
    "                        'מותג': 'brand', \n",
    "                        'סוג עסקה': 'pay_way', \n",
    "                        'מספר אישור': 'appr_num', \n",
    "                        'סוג אשראי': 'trx_type', \n",
    "                        'סכום': 'trx_amount', \n",
    "                        'מטבע': 'currency', \n",
    "                        'מספר תשלומים': 'split_pay', \n",
    "                        'תשלום ראשון': 'ddd', \n",
    "                        'תשלום קבוע': 'eee', \n",
    "                        'פרטים נוספים': 'note', \n",
    "                        'חברה מנפיקה': 'fff', \n",
    "                        'ת.ז': 'guest_id', \n",
    "                        'מזהה עסקה': 'uid', \n",
    "                        'טוקן': 'token', \n",
    "                        'מקור כרטיס האשראי': 'iin', \n",
    "                        'סטאטוס': 'status', \n",
    "                        'קוד סטאטוס': 'status_code'\n",
    "    }"
   ]
  },
  {
   "cell_type": "code",
   "execution_count": 6,
   "id": "f3449f71-dab5-4c65-8432-1c60aa41bdb0",
   "metadata": {},
   "outputs": [],
   "source": [
    "pc.rename(columns=col_names_to_english, inplace=True)"
   ]
  },
  {
   "cell_type": "code",
   "execution_count": 7,
   "id": "cce491c6-4e60-4c73-8c24-521f16c0246f",
   "metadata": {},
   "outputs": [],
   "source": [
    "cols_to_drop = ['aaa', 'bbb', 'voucher_num', 'card_exp', 'ccc', 'pay_way', 'trx_type', \n",
    "                'ddd', 'eee', 'fff', 'guest_id', 'uid', 'iin', 'status', 'status_code', \n",
    "                'token', 'conc_num']"
   ]
  },
  {
   "cell_type": "code",
   "execution_count": 8,
   "id": "6737e425-538d-4898-b135-19684a58fbdf",
   "metadata": {},
   "outputs": [],
   "source": [
    "pc.drop(cols_to_drop, axis='columns', inplace=True)"
   ]
  },
  {
   "cell_type": "code",
   "execution_count": 9,
   "id": "8567ef80-e8e1-4b63-95f8-51e77709d30a",
   "metadata": {},
   "outputs": [],
   "source": [
    "needed_columns = ['trx_amount', 'card_num', 'trx_time', 'note', 'currency', 'appr_num', 'split_pay', 'brand']"
   ]
  },
  {
   "cell_type": "code",
   "execution_count": 10,
   "id": "2e140454-f0f4-479c-834e-4558ccb3d47b",
   "metadata": {},
   "outputs": [],
   "source": [
    "pc = pc[needed_columns]"
   ]
  },
  {
   "cell_type": "code",
   "execution_count": 11,
   "id": "1fd6a539-5313-4a0f-96ad-76071d36a5f6",
   "metadata": {},
   "outputs": [
    {
     "data": {
      "text/plain": [
       "trx_amount    False\n",
       "card_num      False\n",
       "trx_time      False\n",
       "note           True\n",
       "currency      False\n",
       "appr_num      False\n",
       "split_pay     False\n",
       "brand         False\n",
       "dtype: bool"
      ]
     },
     "execution_count": 11,
     "metadata": {},
     "output_type": "execute_result"
    }
   ],
   "source": [
    "pc.isna().any()"
   ]
  },
  {
   "cell_type": "code",
   "execution_count": 12,
   "id": "a778daf7-cf58-4045-8df8-b1407c2c3f22",
   "metadata": {},
   "outputs": [],
   "source": [
    "pc.fillna('0', inplace=True)"
   ]
  },
  {
   "cell_type": "code",
   "execution_count": 13,
   "id": "e4494a5f-1583-4d01-8664-bd2777f58088",
   "metadata": {},
   "outputs": [],
   "source": [
    "# replace hebrew credit card company names with english ones in column 'brand'\n",
    "pc['brand'] = pc['brand'].replace(r'מסטרכרד|מאסטרו', 'mastercard', regex=True)\n",
    "pc['brand'] = pc['brand'].replace('ויזה', 'visa')\n",
    "pc['brand'] = pc['brand'].replace('אמקס', 'visa')\n",
    "pc['brand'] = pc['brand'].replace('דיינרס', 'diners')"
   ]
  },
  {
   "cell_type": "code",
   "execution_count": 14,
   "id": "9501d51f-0c87-4a95-8e1a-850426b18925",
   "metadata": {},
   "outputs": [],
   "source": [
    "# make notes lowercase for convenience\n",
    "pc['note'] = pc['note'].apply(lambda x: x.lower() if isinstance(x, str) else x)"
   ]
  },
  {
   "cell_type": "code",
   "execution_count": 15,
   "id": "3080598a-92a7-4589-8adf-cbd5ed99dac7",
   "metadata": {},
   "outputs": [],
   "source": [
    "# some improvements in column values\n",
    "pc['trx_time'] = pc['trx_time'].replace(r'^[0-9/ ]+([0-9]{2}:[0-9]{2}):[0-9]{2}', r'\\1', regex=True)"
   ]
  },
  {
   "cell_type": "code",
   "execution_count": 16,
   "id": "c4b5a063-d907-4414-a9c6-fb116f4e5b8d",
   "metadata": {},
   "outputs": [],
   "source": [
    "pc['card_num'] = pc['card_num'].replace(r'^[0-9]+[*]+([0-9]{4})', r'xx\\1', regex=True)"
   ]
  },
  {
   "cell_type": "code",
   "execution_count": 17,
   "id": "1fdb0076-312d-4825-8100-9c3c24cb7a0e",
   "metadata": {},
   "outputs": [],
   "source": [
    "pc['currency'] = pc['currency'].replace('$', 'usd')"
   ]
  },
  {
   "cell_type": "code",
   "execution_count": 18,
   "id": "39c25522-eb8d-4743-8b0c-f64e6e4abc28",
   "metadata": {},
   "outputs": [],
   "source": [
    "pc['currency'] = pc['currency'].replace('₪', 'ils')"
   ]
  },
  {
   "cell_type": "code",
   "execution_count": 19,
   "id": "9f044c17-5cbb-42ff-8635-d258a8ad9f0a",
   "metadata": {},
   "outputs": [],
   "source": [
    "pc['note'] = pc['note'].replace(r'([0-9]{7,}) [0-9]+', r'\\1', regex=True)"
   ]
  },
  {
   "cell_type": "code",
   "execution_count": 20,
   "id": "613b93f4-6fe1-4f0c-ba85-8fc33967267f",
   "metadata": {},
   "outputs": [],
   "source": [
    "pc['note'] = pc['note'].replace(r'^b[0-9]{5,}([0-9]{3}$)', r'pos xx\\1', regex=True)"
   ]
  },
  {
   "cell_type": "code",
   "execution_count": 21,
   "id": "a120e586-4ab1-4752-89e9-732bdbf1eb27",
   "metadata": {},
   "outputs": [],
   "source": [
    "# adding \"кракозябра\" just because it sounds funny\n",
    "pc['note'] = pc['note'].replace(r'^�$', 'pos кракозябра', regex=True)"
   ]
  },
  {
   "cell_type": "code",
   "execution_count": 22,
   "id": "a6d79892-96e8-4a10-83a4-54d652612b83",
   "metadata": {},
   "outputs": [],
   "source": [
    "# trim whitespaces\n",
    "for column in pc.columns:\n",
    "    pc[column] = pc[column].apply(lambda x: x.strip())"
   ]
  },
  {
   "cell_type": "code",
   "execution_count": 23,
   "id": "86ecfb82-c2c2-40c3-853b-8fe85b76188b",
   "metadata": {},
   "outputs": [],
   "source": [
    "rate = 3.75"
   ]
  },
  {
   "cell_type": "code",
   "execution_count": 24,
   "id": "1b515f89-3cde-4bc7-9779-a145239e987d",
   "metadata": {},
   "outputs": [],
   "source": [
    "pc['split_pay'] = pc['split_pay'].astype('int8')"
   ]
  },
  {
   "cell_type": "code",
   "execution_count": 25,
   "id": "837d13b1-c54a-4aaf-8529-f96589e63157",
   "metadata": {},
   "outputs": [],
   "source": [
    "pc['trx_amount'] = pc['trx_amount'].astype('float')"
   ]
  },
  {
   "cell_type": "code",
   "execution_count": 26,
   "id": "988f8220-1f0b-49c6-b1e6-d6a3fa993b5b",
   "metadata": {},
   "outputs": [],
   "source": [
    "pc['ils'] = pc.apply(lambda x: round(x['trx_amount'], 2) \n",
    "                     if x['currency'] == 'ils' \n",
    "                     else round(x['trx_amount'] * rate, 2), axis='columns')"
   ]
  },
  {
   "cell_type": "code",
   "execution_count": 27,
   "id": "7d2f4fa8-e615-4a20-a7b6-41ce31c61f55",
   "metadata": {},
   "outputs": [],
   "source": [
    "pc['usd'] = pc.apply(lambda x: round(x['trx_amount'], 2) \n",
    "                     if x['currency'] == 'usd' \n",
    "                     else round(x['trx_amount'] / rate, 2), axis='columns')"
   ]
  },
  {
   "cell_type": "code",
   "execution_count": 28,
   "id": "ef78c151-02a5-4fe9-844d-0f9fc1d01c7a",
   "metadata": {},
   "outputs": [
    {
     "name": "stdout",
     "output_type": "stream",
     "text": [
      "<class 'pandas.core.frame.DataFrame'>\n",
      "RangeIndex: 53 entries, 0 to 52\n",
      "Data columns (total 10 columns):\n",
      " #   Column      Non-Null Count  Dtype  \n",
      "---  ------      --------------  -----  \n",
      " 0   trx_amount  53 non-null     float64\n",
      " 1   card_num    53 non-null     object \n",
      " 2   trx_time    53 non-null     object \n",
      " 3   note        53 non-null     object \n",
      " 4   currency    53 non-null     object \n",
      " 5   appr_num    53 non-null     object \n",
      " 6   split_pay   53 non-null     int8   \n",
      " 7   brand       53 non-null     object \n",
      " 8   ils         53 non-null     float64\n",
      " 9   usd         53 non-null     float64\n",
      "dtypes: float64(3), int8(1), object(6)\n",
      "memory usage: 3.9+ KB\n"
     ]
    }
   ],
   "source": [
    "pc.info()"
   ]
  },
  {
   "cell_type": "code",
   "execution_count": 29,
   "id": "e36f45a1-5dbc-4132-978f-991c4676bc0f",
   "metadata": {},
   "outputs": [],
   "source": [
    "pc.drop('trx_amount', axis='columns', inplace=True)"
   ]
  },
  {
   "cell_type": "code",
   "execution_count": 30,
   "id": "e63c9d93-5a8f-4a05-b892-362e191add2e",
   "metadata": {},
   "outputs": [],
   "source": [
    "chosen_columns = ['usd', 'ils', 'card_num', 'trx_time', 'note', 'currency', 'appr_num', 'split_pay', 'brand']"
   ]
  },
  {
   "cell_type": "code",
   "execution_count": 31,
   "id": "8db638a4-e368-4737-b674-a57baa3ed6e5",
   "metadata": {},
   "outputs": [],
   "source": [
    "pc = pc[chosen_columns]"
   ]
  },
  {
   "cell_type": "code",
   "execution_count": 32,
   "id": "53c17650-61d6-49ac-8a7f-ded9ae845bd9",
   "metadata": {},
   "outputs": [
    {
     "name": "stdout",
     "output_type": "stream",
     "text": [
      "<class 'pandas.core.frame.DataFrame'>\n",
      "RangeIndex: 53 entries, 0 to 52\n",
      "Data columns (total 9 columns):\n",
      " #   Column     Non-Null Count  Dtype  \n",
      "---  ------     --------------  -----  \n",
      " 0   usd        53 non-null     float64\n",
      " 1   ils        53 non-null     float64\n",
      " 2   card_num   53 non-null     object \n",
      " 3   trx_time   53 non-null     object \n",
      " 4   note       53 non-null     object \n",
      " 5   currency   53 non-null     object \n",
      " 6   appr_num   53 non-null     object \n",
      " 7   split_pay  53 non-null     int8   \n",
      " 8   brand      53 non-null     object \n",
      "dtypes: float64(2), int8(1), object(6)\n",
      "memory usage: 3.5+ KB\n"
     ]
    }
   ],
   "source": [
    "pc.info()"
   ]
  },
  {
   "cell_type": "code",
   "execution_count": null,
   "id": "08e3c2e0-d0c1-4ac9-be38-7c983db54e54",
   "metadata": {},
   "outputs": [],
   "source": []
  },
  {
   "cell_type": "code",
   "execution_count": null,
   "id": "3dc77b2c-95dd-425b-949f-7d473e49c6f4",
   "metadata": {},
   "outputs": [],
   "source": []
  },
  {
   "cell_type": "code",
   "execution_count": null,
   "id": "e6ded6fa-2deb-4129-97ab-40483abe0932",
   "metadata": {},
   "outputs": [],
   "source": []
  },
  {
   "cell_type": "code",
   "execution_count": null,
   "id": "c4cedaa5-035f-4a87-819d-03756d9da6d2",
   "metadata": {},
   "outputs": [],
   "source": []
  },
  {
   "cell_type": "code",
   "execution_count": null,
   "id": "77f6943f-2703-4893-97fc-c344aeb53a6f",
   "metadata": {},
   "outputs": [],
   "source": []
  },
  {
   "cell_type": "code",
   "execution_count": null,
   "id": "b5f2aa54-804a-4d3a-80f4-5953581aae60",
   "metadata": {},
   "outputs": [],
   "source": []
  }
 ],
 "metadata": {
  "kernelspec": {
   "display_name": "Python 3 (ipykernel)",
   "language": "python",
   "name": "python3"
  },
  "language_info": {
   "codemirror_mode": {
    "name": "ipython",
    "version": 3
   },
   "file_extension": ".py",
   "mimetype": "text/x-python",
   "name": "python",
   "nbconvert_exporter": "python",
   "pygments_lexer": "ipython3",
   "version": "3.12.3"
  }
 },
 "nbformat": 4,
 "nbformat_minor": 5
}
