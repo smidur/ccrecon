{
  "metadata": {
    "kernelspec": {
      "name": "python",
      "display_name": "Python (Pyodide)",
      "language": "python"
    },
    "language_info": {
      "codemirror_mode": {
        "name": "python",
        "version": 3
      },
      "file_extension": ".py",
      "mimetype": "text/x-python",
      "name": "python",
      "nbconvert_exporter": "python",
      "pygments_lexer": "ipython3",
      "version": "3.8"
    }
  },
  "nbformat_minor": 4,
  "nbformat": 4,
  "cells": [
    {
      "cell_type": "code",
      "source": "import pandas as pd",
      "metadata": {
        "trusted": true
      },
      "outputs": [],
      "execution_count": 1
    },
    {
      "cell_type": "code",
      "source": "jc = pd.read_csv('file.txt', sep='|', dtype='str')",
      "metadata": {
        "trusted": true
      },
      "outputs": [],
      "execution_count": 2
    },
    {
      "cell_type": "code",
      "source": "#jc,",
      "metadata": {
        "trusted": true
      },
      "outputs": [],
      "execution_count": 3
    },
    {
      "cell_type": "code",
      "source": "jc.columns",
      "metadata": {
        "trusted": true
      },
      "outputs": [
        {
          "execution_count": 4,
          "output_type": "execute_result",
          "data": {
            "text/plain": "Index(['IS_INTERNAL_YN', 'INTERNAL_DEBIT', 'INTERNAL_CREDIT', 'FIRST',\n       'FIRST_DEBIT', 'FIRST_CREDIT', 'SECOND', 'SECOND_DEBIT',\n       'SECOND_CREDIT', 'THIRD', 'THIRD_DEBIT', 'THIRD_CREDIT', 'EXP_DATE',\n       'RECEIPT_NO', 'GUEST_FULL_NAME', 'TARGET_RESORT', 'TRX_DESC',\n       'MARKET_CODE', 'BUSINESS_FORMAT_DATE', 'BUSINESS_TIME', 'BUSINESS_DATE',\n       'REFERENCE', 'TRX_NO', 'CASHIER_DEBIT', 'CASHIER_CREDIT', 'ROOM',\n       'CREDIT_CARD_SUPPLEMENT', 'CURRENCY1', 'TRX_CODE', 'CASHIER_ID',\n       'REMARK', 'INSERT_USER', 'INSERT_DATE', 'CHEQUE_NUMBER', 'ROOM_CLASS',\n       'CC_CODE', 'CASHIER_NAME', 'USER_NAME', 'DEP_NET_TAX_AMT',\n       'DEPOSIT_DEBIT', 'CASH_ID_USER_NAME', 'PRINT_CASHIER_DEBIT',\n       'PRINT_CASHIER_CREDIT'],\n      dtype='object')"
          },
          "metadata": {}
        }
      ],
      "execution_count": 4
    },
    {
      "cell_type": "code",
      "source": "rest_cols = [\n    'THIRD_DEBIT', 'THIRD_CREDIT', 'EXP_DATE',\n    'RECEIPT_NO', 'GUEST_FULL_NAME', 'TARGET_RESORT', 'TRX_DESC',\n    'MARKET_CODE', 'BUSINESS_FORMAT_DATE', 'BUSINESS_TIME', 'BUSINESS_DATE',\n    'REFERENCE', 'TRX_NO', 'CASHIER_DEBIT', 'CASHIER_CREDIT', 'ROOM',\n    'CREDIT_CARD_SUPPLEMENT', 'CURRENCY1', 'TRX_CODE', 'CASHIER_ID',\n    'REMARK', 'INSERT_USER', 'INSERT_DATE'\n    ]",
      "metadata": {
        "trusted": true
      },
      "outputs": [],
      "execution_count": 5
    },
    {
      "cell_type": "code",
      "source": "#jc[rest_cols],",
      "metadata": {
        "trusted": true
      },
      "outputs": [],
      "execution_count": 6
    },
    {
      "cell_type": "code",
      "source": "jc.isna().any()",
      "metadata": {
        "trusted": true
      },
      "outputs": [
        {
          "execution_count": 7,
          "output_type": "execute_result",
          "data": {
            "text/plain": "IS_INTERNAL_YN            False\nINTERNAL_DEBIT            False\nINTERNAL_CREDIT            True\nFIRST                      True\nFIRST_DEBIT                True\nFIRST_CREDIT               True\nSECOND                     True\nSECOND_DEBIT               True\nSECOND_CREDIT              True\nTHIRD                      True\nTHIRD_DEBIT                True\nTHIRD_CREDIT               True\nEXP_DATE                   True\nRECEIPT_NO                 True\nGUEST_FULL_NAME            True\nTARGET_RESORT              True\nTRX_DESC                   True\nMARKET_CODE                True\nBUSINESS_FORMAT_DATE       True\nBUSINESS_TIME              True\nBUSINESS_DATE              True\nREFERENCE                  True\nTRX_NO                     True\nCASHIER_DEBIT              True\nCASHIER_CREDIT             True\nROOM                       True\nCREDIT_CARD_SUPPLEMENT     True\nCURRENCY1                  True\nTRX_CODE                   True\nCASHIER_ID                 True\nREMARK                     True\nINSERT_USER                True\nINSERT_DATE                True\nCHEQUE_NUMBER              True\nROOM_CLASS                 True\nCC_CODE                    True\nCASHIER_NAME               True\nUSER_NAME                  True\nDEP_NET_TAX_AMT            True\nDEPOSIT_DEBIT              True\nCASH_ID_USER_NAME          True\nPRINT_CASHIER_DEBIT        True\nPRINT_CASHIER_CREDIT       True\ndtype: bool"
          },
          "metadata": {}
        }
      ],
      "execution_count": 7
    },
    {
      "cell_type": "code",
      "source": "# after seeing that last two rows are all NaN, we can get rid of them\njc.drop(jc.tail(2).index, inplace=True)\njc.fillna('', inplace=True)",
      "metadata": {
        "trusted": true
      },
      "outputs": [],
      "execution_count": 8
    },
    {
      "cell_type": "code",
      "source": "jc.shape",
      "metadata": {
        "trusted": true
      },
      "outputs": [
        {
          "execution_count": 9,
          "output_type": "execute_result",
          "data": {
            "text/plain": "(52, 43)"
          },
          "metadata": {}
        }
      ],
      "execution_count": 9
    },
    {
      "cell_type": "code",
      "source": "needed_columns = ['TRX_CODE', 'BUSINESS_TIME', 'GUEST_FULL_NAME', 'REFERENCE',\n                  'CREDIT_CARD_SUPPLEMENT', 'ROOM', 'CURRENCY1',\n                  'CASHIER_CREDIT', 'CASH_ID_USER_NAME']",
      "metadata": {
        "trusted": true
      },
      "outputs": [],
      "execution_count": 10
    },
    {
      "cell_type": "code",
      "source": "jc = jc[needed_columns]",
      "metadata": {
        "trusted": true
      },
      "outputs": [],
      "execution_count": 11
    },
    {
      "cell_type": "code",
      "source": "jc.columns = [column.lower() for column in jc.columns]",
      "metadata": {
        "trusted": true
      },
      "outputs": [],
      "execution_count": 12
    },
    {
      "cell_type": "code",
      "source": "convenient_col_names_dict = {'business_time': 'trx_time',\n                             'guest_full_name': 'guest_name',\n                             'reference': 'note1',\n                             'credit_card_supplement': 'note2',\n                             'currency1': 'currency',\n                             'cashier_credit': 'trx_amount',\n                             'cash_id_user_name': 'username'\n                            }",
      "metadata": {
        "trusted": true
      },
      "outputs": [],
      "execution_count": 13
    },
    {
      "cell_type": "code",
      "source": "jc.rename(columns=convenient_col_names_dict, inplace=True)",
      "metadata": {
        "trusted": true
      },
      "outputs": [],
      "execution_count": 14
    },
    {
      "cell_type": "code",
      "source": "jc.columns",
      "metadata": {
        "trusted": true
      },
      "outputs": [
        {
          "execution_count": 15,
          "output_type": "execute_result",
          "data": {
            "text/plain": "Index(['trx_code', 'trx_time', 'guest_name', 'note1', 'note2', 'room',\n       'currency', 'trx_amount', 'username'],\n      dtype='object')"
          },
          "metadata": {}
        }
      ],
      "execution_count": 15
    },
    {
      "cell_type": "code",
      "source": "#jc,",
      "metadata": {
        "trusted": true
      },
      "outputs": [],
      "execution_count": 16
    },
    {
      "cell_type": "code",
      "source": "# working with text of columns\ncolumns = ['note1', 'note2', 'guest_name']\nfor column in columns[:2]:\n    # make all text lowercase\n    jc[column] = jc[column].apply(lambda x: x.lower() if isinstance(x, str) else x)\n    # replace all POS(payment on spot) notes\n    jc[column] = jc[column].replace(r'^check# 0([0-9]{6}) \\[[0-9]{5}\\]', r'pos \\1', regex=True)\n    # replace all text containing bank card numbers\n    jc[column] = jc[column].replace(r'x+([0-9]{4})|(x{3,20}[a-z]*\\.)', r'xx\\1', regex=True)\n    jc[column] = jc[column].replace(r'[\\.]+([0-9]{4})', r'xx\\1', regex=True)\n    jc[column] = jc[column].replace(r'(xx[0-9]{4})( xx[0-9]{4}| xx$)', r'\\1', regex=True)\n    jc[column] = jc[column].replace(r'[ ]{2,9}([0-9]{1,2}\\/[0-9]{1,2})', r' \\1', regex=True)\n\n    if column == columns[0]:\n        jc[column] = jc[column].replace(r'([0-9]{1,3}),([0-9]+\\.[0-9]{2,}) usd split into ', r'[\\1\\2=',\n                                        regex=True)\n        jc[column] = jc[column].replace(\n            r'([0-9]{1,3}),([0-9]+\\.[0-9]{2,}) usd and ([0-9]{1,3}),([0-9]+\\.[0-9]{2,}) ', r'\\1\\2+\\3\\4',\n            regex=True)\n        jc[column] = jc[column].replace(r'([0-9]+)usd. ', r'\\1]', regex=True)\n        jc[column] = jc[column].replace(r'(\\[[0-9.=+]+\\])[a-z ]+([0-9.=>#]+)[a-z ]+([0-9#]+)', r'\\1 \\2\\3',\n                                        regex=True)\n        jc[column] = jc[column].replace(r'[ ]+', ' ', regex=True)\n    else:\n        jc[column] = jc[column].replace(r'[ ]+', ' ', regex=True)\n",
      "metadata": {
        "trusted": true
      },
      "outputs": [],
      "execution_count": 17
    },
    {
      "cell_type": "code",
      "source": "# removing sensitive info\njc.drop([3, 4, 6], axis='rows', inplace=True)",
      "metadata": {
        "trusted": true
      },
      "outputs": [],
      "execution_count": 18
    },
    {
      "cell_type": "code",
      "source": "jc[columns[:2]],",
      "metadata": {
        "trusted": true
      },
      "outputs": [
        {
          "execution_count": 19,
          "output_type": "execute_result",
          "data": {
            "text/plain": "(                                                note1         note2\n 0                                              xx7269        xx7269\n 1                                        cc type corr  cc type corr\n 2                                              xx4121        xx4121\n 5                                              xx7269        xx7269\n 7                                          pos 049740    pos 049740\n 8                                          pos 049783    pos 049783\n 9                                          pos 049789    pos 049789\n 10                                         pos 049800    pos 049800\n 11                                         pos 049843    pos 049843\n 12                                         pos 049849    pos 049849\n 13                                         pos 049738    pos 049738\n 14                                         pos 049870    pos 049870\n 15                                         pos 049877    pos 049877\n 16                                         pos 049885    pos 049885\n 17                                         pos 023450    pos 023450\n 18                                         pos 023489    pos 023489\n 19                                         pos 023490    pos 023490\n 20                                         pos 023418    pos 023418\n 21                                         pos 049811    pos 049811\n 22                                         pos 049846    pos 049846\n 23                                         pos 023430    pos 023430\n 24                                         pos 049864    pos 049864\n 25                                         pos 023432    pos 023432\n 26                                         pos 049868    pos 049868\n 27                                         pos 023444    pos 023444\n 28                                         pos 023441    pos 023441\n 29                                         pos 023457    pos 023457\n 30                                                           xx9303\n 31                                                           xx1007\n 32                                                           xx1007\n 33                                                           xx1249\n 34                                                           xx4942\n 35                                                           xx4985\n 36                                                           xx0354\n 37                          [5620.76=3099.59+2521.17]        xx2853\n 38             [5620.76=3099.59+2521.17] #1712=>#1724        xx2853\n 39                          [6186.02=3008.74+3177.28]        xx2853\n 40  [6186.02=3008.74+3177.28] #1722=>#1711 [3177.2...        xx2853\n 41  [6186.02=3008.74+3177.28] #1722=>#1711 [3177.2...        xx2853\n 42                                                           xx1985\n 43                                                           xx1985\n 44                                                           xx9099\n 45                                                           xx5150\n 46                                                           xx5549\n 47                                                           xx4444\n 48                                                           xx9315\n 49                                                           xx0419\n 50                                                           xx0419\n 51                                             xx4121        xx4121,)"
          },
          "metadata": {}
        }
      ],
      "execution_count": 19
    },
    {
      "cell_type": "code",
      "source": "jc['guest_name']",
      "metadata": {
        "trusted": true
      },
      "outputs": [
        {
          "execution_count": 20,
          "output_type": "execute_result",
          "data": {
            "text/plain": "0                         Cohen,Hadas\n1                         Cohen,Hadas\n2                         Peretz,Erez\n5                         Cohen,Hadas\n7                       POS VISA,9191\n8                       POS VISA,9191\n9                       POS VISA,9191\n10                      POS VISA,9191\n11                      POS VISA,9191\n12                      POS VISA,9191\n13                      POS VISA,9191\n14                      POS VISA,9191\n15                      POS VISA,9191\n16                      POS VISA,9191\n17                      POS VISA,9191\n18                      POS VISA,9191\n19                      POS VISA,9191\n20                POS MASTERCARD,9194\n21                POS MASTERCARD,9194\n22                POS MASTERCARD,9194\n23                POS MASTERCARD,9194\n24                POS MASTERCARD,9194\n25                POS MASTERCARD,9194\n26                POS MASTERCARD,9194\n27                POS MASTERCARD,9194\n28                POS MASTERCARD,9194\n29                POS MASTERCARD,9194\n30                          Maatuk,Or\n31                  Tilson,Naftaly,Mr\n32                  Tilson,Naftaly,Mr\n33                     Avraham,Shelly\n34                     Avraham,Shelly\n35                        Amira,Keren\n36                   Nave,Daniela,Mrs\n37                   Nave,Daniela,Mrs\n38    Levy,Nati And Shenhav,Mr Andmrs\n39                     Kvodi,Rotem,Mr\n40                    Zoarets,Erez,Mr\n41                    Zoarets,Erez,Mr\n42                    Klein,Dennis,Mr\n43                    Klein,Dennis,Mr\n44                    Olhin,Kirill,Mr\n45                       Zelig,Yehuda\n46                    Mahtabi,Lior,Mr\n47                  Stansal,Michel,Mr\n48           Margalit,Ohad And Michal\n49                     Cohen,Almog,Mr\n50                    Mahtabi,Lior,Mr\n51                        Peretz,Erez\nName: guest_name, dtype: object"
          },
          "metadata": {}
        }
      ],
      "execution_count": 20
    },
    {
      "cell_type": "code",
      "source": "column = columns[2]",
      "metadata": {
        "trusted": true
      },
      "outputs": [],
      "execution_count": 21
    },
    {
      "cell_type": "code",
      "source": "jc[column] = jc[column].replace(r'[ ,]*(And|and)[ ,]*', r' + ', regex=True)",
      "metadata": {
        "trusted": true
      },
      "outputs": [],
      "execution_count": 22
    },
    {
      "cell_type": "code",
      "source": "jc[column] = jc[column].replace(r'^(Mrs|mrs|Mr|mr)|(Mrs|mrs|Mr|mr)$|[ ,]*(Mrs|mrs|Mr|mr)|(Mrs|mrs|Mr|mr)[ ,]*$', '', regex=True)",
      "metadata": {
        "trusted": true
      },
      "outputs": [],
      "execution_count": 23
    },
    {
      "cell_type": "code",
      "source": "jc[column] = jc[column].replace(r'[ +]+$', '', regex=True)",
      "metadata": {
        "trusted": true
      },
      "outputs": [],
      "execution_count": 24
    },
    {
      "cell_type": "code",
      "source": "# trim whitespaces in note1, note2, guest_name columns\nfor column in columns:\n    jc[column] = jc[column].apply(lambda x: x.strip())\n",
      "metadata": {
        "trusted": true
      },
      "outputs": [],
      "execution_count": 25
    },
    {
      "cell_type": "code",
      "source": "# add new all in one notes column\nnotes = []\nfor index, row in jc.iterrows():\n    if row['note1'] == \"\" and row['note2'] == \"\":\n        notes.append(\"empty\")\n    elif row['note1'] == \"\":\n        notes.append(row['note2'])\n    elif row['note2'] == \"\":\n        notes.append(row['note1'])\n    elif row['note1'] != row['note2']:\n        notes.append(f\"{row['note2']} :: {row['note1']}\")\n    else:\n        notes.append(row['note1'])\n",
      "metadata": {
        "trusted": true
      },
      "outputs": [],
      "execution_count": 26
    },
    {
      "cell_type": "code",
      "source": "print(notes)",
      "metadata": {
        "trusted": true
      },
      "outputs": [
        {
          "name": "stdout",
          "text": "['xx7269', 'cc type corr', 'xx4121', 'xx7269', 'pos 049740', 'pos 049783', 'pos 049789', 'pos 049800', 'pos 049843', 'pos 049849', 'pos 049738', 'pos 049870', 'pos 049877', 'pos 049885', 'pos 023450', 'pos 023489', 'pos 023490', 'pos 023418', 'pos 049811', 'pos 049846', 'pos 023430', 'pos 049864', 'pos 023432', 'pos 049868', 'pos 023444', 'pos 023441', 'pos 023457', 'xx9303', 'xx1007', 'xx1007', 'xx1249', 'xx4942', 'xx4985', 'xx0354', 'xx2853 :: [5620.76=3099.59+2521.17]', 'xx2853 :: [5620.76=3099.59+2521.17] #1712=>#1724', 'xx2853 :: [6186.02=3008.74+3177.28]', 'xx2853 :: [6186.02=3008.74+3177.28] #1722=>#1711 [3177.28=1486.38+1690.90]', 'xx2853 :: [6186.02=3008.74+3177.28] #1722=>#1711 [3177.28=1486.38+1690.90] #1711=>#1709', 'xx1985', 'xx1985', 'xx9099', 'xx5150', 'xx5549', 'xx4444', 'xx9315', 'xx0419', 'xx0419', 'xx4121']\n",
          "output_type": "stream"
        }
      ],
      "execution_count": 27
    },
    {
      "cell_type": "code",
      "source": "jc['note'] = notes",
      "metadata": {
        "trusted": true
      },
      "outputs": [],
      "execution_count": 28
    },
    {
      "cell_type": "code",
      "source": "# convert column datatype to float for future calculations\njc['trx_amount'] = jc['trx_amount'].astype(float)",
      "metadata": {
        "trusted": true
      },
      "outputs": [],
      "execution_count": 29
    },
    {
      "cell_type": "code",
      "source": "# as an example we take rate of 3.75 for 1 USD\nrate = 3.75",
      "metadata": {
        "trusted": true
      },
      "outputs": [],
      "execution_count": 30
    },
    {
      "cell_type": "code",
      "source": "jc['ils'] = jc['trx_amount'].apply(lambda x: round(x * rate, 2))",
      "metadata": {
        "trusted": true
      },
      "outputs": [],
      "execution_count": 31
    },
    {
      "cell_type": "code",
      "source": "final_columns = ['username', 'trx_code', 'trx_time', 'guest_name',\n                 'note', 'room', 'currency', 'ils',\n                 'trx_amount']",
      "metadata": {
        "trusted": true
      },
      "outputs": [],
      "execution_count": 32
    },
    {
      "cell_type": "code",
      "source": "jc = jc[final_columns]",
      "metadata": {
        "trusted": true
      },
      "outputs": [],
      "execution_count": 33
    },
    {
      "cell_type": "code",
      "source": "",
      "metadata": {
        "trusted": true
      },
      "outputs": [],
      "execution_count": null
    },
    {
      "cell_type": "code",
      "source": "",
      "metadata": {
        "trusted": true
      },
      "outputs": [],
      "execution_count": null
    },
    {
      "cell_type": "code",
      "source": "",
      "metadata": {
        "trusted": true
      },
      "outputs": [],
      "execution_count": null
    },
    {
      "cell_type": "code",
      "source": "",
      "metadata": {
        "trusted": true
      },
      "outputs": [],
      "execution_count": null
    },
    {
      "cell_type": "code",
      "source": "",
      "metadata": {
        "trusted": true
      },
      "outputs": [],
      "execution_count": null
    },
    {
      "cell_type": "code",
      "source": "",
      "metadata": {
        "trusted": true
      },
      "outputs": [],
      "execution_count": null
    },
    {
      "cell_type": "code",
      "source": "",
      "metadata": {
        "trusted": true
      },
      "outputs": [],
      "execution_count": null
    },
    {
      "cell_type": "code",
      "source": "",
      "metadata": {
        "trusted": true
      },
      "outputs": [],
      "execution_count": null
    },
    {
      "cell_type": "code",
      "source": "",
      "metadata": {
        "trusted": true
      },
      "outputs": [],
      "execution_count": null
    },
    {
      "cell_type": "code",
      "source": "",
      "metadata": {
        "trusted": true
      },
      "outputs": [],
      "execution_count": null
    }
  ]
}