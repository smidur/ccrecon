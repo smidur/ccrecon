{
  "metadata": {
    "kernelspec": {
      "name": "python",
      "display_name": "Python (Pyodide)",
      "language": "python"
    },
    "language_info": {
      "codemirror_mode": {
        "name": "python",
        "version": 3
      },
      "file_extension": ".py",
      "mimetype": "text/x-python",
      "name": "python",
      "nbconvert_exporter": "python",
      "pygments_lexer": "ipython3",
      "version": "3.8"
    }
  },
  "nbformat_minor": 4,
  "nbformat": 4,
  "cells": [
    {
      "cell_type": "code",
      "source": "import pandas as pd",
      "metadata": {
        "trusted": true
      },
      "outputs": [],
      "execution_count": 1
    },
    {
      "cell_type": "code",
      "source": "",
      "metadata": {
        "trusted": true
      },
      "outputs": [],
      "execution_count": null
    },
    {
      "cell_type": "code",
      "source": "df = pd.read_csv(\"trx_codes.csv\", sep=\"|\", dtype='str')",
      "metadata": {
        "trusted": true
      },
      "outputs": [],
      "execution_count": 2
    },
    {
      "cell_type": "code",
      "source": "df.columns",
      "metadata": {
        "trusted": true,
        "scrolled": true
      },
      "outputs": [
        {
          "execution_count": 3,
          "output_type": "execute_result",
          "data": {
            "text/plain": "Index(['Unnamed: 0', 'TRX_CODE', 'TC_GROUP', 'TC_SUBGROUP', 'D3'], dtype='object')"
          },
          "metadata": {}
        }
      ],
      "execution_count": 3
    },
    {
      "cell_type": "code",
      "source": "df",
      "metadata": {
        "trusted": true
      },
      "outputs": [
        {
          "execution_count": 4,
          "output_type": "execute_result",
          "data": {
            "text/plain": "    Unnamed: 0 TRX_CODE TC_GROUP TC_SUBGROUP                            D3\n0            0     8997      PAY     INT-PAY  Deposit Transfer at Check-In\n1            1     8998      PAY     INT-PAY       Deposit Balance Forward\n2            2     9000      PAY        CASH                          Cash\n3            3     9001      PAY        CASH                     Check NIS\n4            4     9002      PAY          DB                   City Ledger\n..         ...      ...      ...         ...                           ...\n112        112     9513      PAY       CCARD          MC USD Pele-Link OPI\n113        113     9514      PAY       CCARD    Isracard NIS Pele-Link OPI\n114        114     9515      PAY       CCARD      Diners USD Pele-Link OPI\n115        115     9516      PAY       CCARD      Diners NIS Pele-Link OPI\n116        116      NaN      NaN         NaN                           NaN\n\n[117 rows x 5 columns]",
            "text/html": "<div>\n<style scoped>\n    .dataframe tbody tr th:only-of-type {\n        vertical-align: middle;\n    }\n\n    .dataframe tbody tr th {\n        vertical-align: top;\n    }\n\n    .dataframe thead th {\n        text-align: right;\n    }\n</style>\n<table border=\"1\" class=\"dataframe\">\n  <thead>\n    <tr style=\"text-align: right;\">\n      <th></th>\n      <th>Unnamed: 0</th>\n      <th>TRX_CODE</th>\n      <th>TC_GROUP</th>\n      <th>TC_SUBGROUP</th>\n      <th>D3</th>\n    </tr>\n  </thead>\n  <tbody>\n    <tr>\n      <th>0</th>\n      <td>0</td>\n      <td>8997</td>\n      <td>PAY</td>\n      <td>INT-PAY</td>\n      <td>Deposit Transfer at Check-In</td>\n    </tr>\n    <tr>\n      <th>1</th>\n      <td>1</td>\n      <td>8998</td>\n      <td>PAY</td>\n      <td>INT-PAY</td>\n      <td>Deposit Balance Forward</td>\n    </tr>\n    <tr>\n      <th>2</th>\n      <td>2</td>\n      <td>9000</td>\n      <td>PAY</td>\n      <td>CASH</td>\n      <td>Cash</td>\n    </tr>\n    <tr>\n      <th>3</th>\n      <td>3</td>\n      <td>9001</td>\n      <td>PAY</td>\n      <td>CASH</td>\n      <td>Check NIS</td>\n    </tr>\n    <tr>\n      <th>4</th>\n      <td>4</td>\n      <td>9002</td>\n      <td>PAY</td>\n      <td>DB</td>\n      <td>City Ledger</td>\n    </tr>\n    <tr>\n      <th>...</th>\n      <td>...</td>\n      <td>...</td>\n      <td>...</td>\n      <td>...</td>\n      <td>...</td>\n    </tr>\n    <tr>\n      <th>112</th>\n      <td>112</td>\n      <td>9513</td>\n      <td>PAY</td>\n      <td>CCARD</td>\n      <td>MC USD Pele-Link OPI</td>\n    </tr>\n    <tr>\n      <th>113</th>\n      <td>113</td>\n      <td>9514</td>\n      <td>PAY</td>\n      <td>CCARD</td>\n      <td>Isracard NIS Pele-Link OPI</td>\n    </tr>\n    <tr>\n      <th>114</th>\n      <td>114</td>\n      <td>9515</td>\n      <td>PAY</td>\n      <td>CCARD</td>\n      <td>Diners USD Pele-Link OPI</td>\n    </tr>\n    <tr>\n      <th>115</th>\n      <td>115</td>\n      <td>9516</td>\n      <td>PAY</td>\n      <td>CCARD</td>\n      <td>Diners NIS Pele-Link OPI</td>\n    </tr>\n    <tr>\n      <th>116</th>\n      <td>116</td>\n      <td>NaN</td>\n      <td>NaN</td>\n      <td>NaN</td>\n      <td>NaN</td>\n    </tr>\n  </tbody>\n</table>\n<p>117 rows × 5 columns</p>\n</div>"
          },
          "metadata": {}
        }
      ],
      "execution_count": 4
    },
    {
      "cell_type": "code",
      "source": "# take only needed columns\ndf = df[[\"TRX_CODE\", \"D3\"]]",
      "metadata": {
        "trusted": true
      },
      "outputs": [],
      "execution_count": 5
    },
    {
      "cell_type": "code",
      "source": "# rename columns for comfort\ncolumns_new_names = [\"code\", \"descr\"]\ndf.columns = columns_new_names",
      "metadata": {
        "trusted": true
      },
      "outputs": [],
      "execution_count": 6
    },
    {
      "cell_type": "code",
      "source": "df.columns",
      "metadata": {
        "trusted": true
      },
      "outputs": [
        {
          "execution_count": 7,
          "output_type": "execute_result",
          "data": {
            "text/plain": "Index(['code', 'descr'], dtype='object')"
          },
          "metadata": {}
        }
      ],
      "execution_count": 7
    },
    {
      "cell_type": "code",
      "source": "df[df['code'].isna()], df[df['descr'].isna()],",
      "metadata": {
        "trusted": true
      },
      "outputs": [
        {
          "execution_count": 8,
          "output_type": "execute_result",
          "data": {
            "text/plain": "(    code descr\n 116  NaN   NaN,\n     code descr\n 116  NaN   NaN)"
          },
          "metadata": {}
        }
      ],
      "execution_count": 8
    },
    {
      "cell_type": "code",
      "source": "# drop NaN\ndf = df.dropna()",
      "metadata": {
        "trusted": true
      },
      "outputs": [],
      "execution_count": 9
    },
    {
      "cell_type": "code",
      "source": "# make column strings lowercase\ndf['descr'] = df['descr'].apply(lambda x: x.lower() if isinstance(x, str) else x)",
      "metadata": {
        "trusted": true
      },
      "outputs": [],
      "execution_count": 10
    },
    {
      "cell_type": "code",
      "source": "df.shape",
      "metadata": {
        "trusted": true
      },
      "outputs": [
        {
          "execution_count": 11,
          "output_type": "execute_result",
          "data": {
            "text/plain": "(116, 2)"
          },
          "metadata": {}
        }
      ],
      "execution_count": 11
    },
    {
      "cell_type": "code",
      "source": "# correcting some misspelled words\nmisspelled_words = [\"off line\", \"on line\", \"pele-link\", \"nis \", \" nis \", \" nis\", r\" \\- \", r\" \\-\", \n                    \"american express\", r\"^mc\", \"master card\", \"isrcard\", \" isr \", \"dolar-\", \n                    \"diners club\", \"pos-mastercard\", \"pos-\", \"e-shop\", \"euro\"]\ncorrect_words = [\"offline\", \"online\", \"pelelink\", \"ils \", \" ils \", \" ils\", \" \", \" \", \n                 \"amex\", \"mastercard\", \"mastercard\", \"isracard\", \" isracard \", \"usd\", \n                 \"diners\", \"pos mastercard\", \"pos\", \"eshop\", \"eur\"]\n\ndef replace_misspelled():\n    for misspelled, correct in zip(misspelled_words, correct_words):\n        df[\"descr\"] = df[\"descr\"].str.replace(misspelled, correct, regex=True)\n\nreplace_misspelled()\n",
      "metadata": {
        "trusted": true
      },
      "outputs": [],
      "execution_count": 12
    },
    {
      "cell_type": "code",
      "source": "# create new column for: currencie(s);\nall_usd_variations = [\" usd \", \" usd\", \"usd \"]\ndf[\"usd\"] = df[\"descr\"].apply(lambda x: True if any(usd_var in x for usd_var in all_usd_variations) else False)\n\n# create new column for: transaction type(s); \ncards = [\"visa\", \"mastercard\", \"isracard\", \"amex\", \"diners\", \"union pay\"]\ndf[\"card\"] = df[\"descr\"].apply(lambda x: True if any(card in x for card in cards) else False)\ndf[\"online\"] = df[\"descr\"].apply(lambda x: True if \"online\" in x else False)\ndf[\"pos\"] = df[\"descr\"].apply(lambda x: True if \"deposit\" not in x and \"pos\" in x else False)\ndf[\"parking\"] = df[\"descr\"].apply(lambda x: True if \"parking\" in x else False)\n\n# other way of doing it but using numpy (import numpy as np) :\n# df[\"in_usd\"] = np.where(df[\"descr\"].str.contains(\" usd \"), True, False)",
      "metadata": {
        "trusted": true
      },
      "outputs": [],
      "execution_count": 13
    },
    {
      "cell_type": "code",
      "source": "# get rid of redundant words in description columns\ndf[\"descr\"] = df[\"descr\"].str.replace(r\"/[ ]*online[ ]*/\", \" \", regex=True)\ndf[\"descr\"] = df[\"descr\"].str.replace(r\"[ ]*ils[ ]*|[ ]*usd[ ]*\", \" \", regex=True)\ndf[\"descr\"] = df[\"descr\"].str.replace(r\"[ ]*pos[ ]+\", \"\", regex=True)\ndf[\"descr\"] = df[\"descr\"].str.replace(r\"[ ]*offline[ ]*\", \"\", regex=True)",
      "metadata": {
        "trusted": true
      },
      "outputs": [],
      "execution_count": 14
    },
    {
      "cell_type": "code",
      "source": "# trim whitespaces\ndf[\"descr\"] = df[\"descr\"].apply(lambda x: x.strip() if isinstance(x, str) else x)",
      "metadata": {
        "trusted": true
      },
      "outputs": [],
      "execution_count": 15
    },
    {
      "cell_type": "code",
      "source": "df,",
      "metadata": {
        "trusted": true
      },
      "outputs": [
        {
          "execution_count": 16,
          "output_type": "execute_result",
          "data": {
            "text/plain": "(     code                         descr    usd   card  online    pos  parking\n 0    8997  deposit transfer at check-in  False  False   False  False    False\n 1    8998       deposit balance forward  False  False   False  False    False\n 2    9000                          cash  False  False   False  False    False\n 3    9001                         check  False  False   False  False    False\n 4    9002                   city ledger  False  False   False  False    False\n ..    ...                           ...    ...    ...     ...    ...      ...\n 111  9512             amex pelelink opi  False   True   False  False    False\n 112  9513       mastercard pelelink opi   True   True   False  False    False\n 113  9514         isracard pelelink opi  False   True   False  False    False\n 114  9515           diners pelelink opi   True   True   False  False    False\n 115  9516           diners pelelink opi  False   True   False  False    False\n \n [116 rows x 7 columns],)"
          },
          "metadata": {}
        }
      ],
      "execution_count": 16
    },
    {
      "cell_type": "code",
      "source": "df_cards_columns = [\"code\", \"descr\", \"usd\", \"online\", \"pos\", \"parking\"]",
      "metadata": {
        "trusted": true
      },
      "outputs": [],
      "execution_count": 17
    },
    {
      "cell_type": "code",
      "source": "df_cards = df.loc[df[\"card\"]]",
      "metadata": {
        "trusted": true
      },
      "outputs": [],
      "execution_count": 18
    },
    {
      "cell_type": "code",
      "source": "df_cards = df_cards[df_cards_columns]\ndf_cards, df_cards.shape",
      "metadata": {
        "trusted": true
      },
      "outputs": [
        {
          "execution_count": 19,
          "output_type": "execute_result",
          "data": {
            "text/plain": "(     code                    descr    usd  online    pos  parking\n 5    9003                     amex   True   False  False    False\n 6    9004                     visa   True   False  False    False\n 7    9005               mastercard   True   False  False    False\n 8    9006                   diners   True   False  False    False\n 11   9011                     amex  False   False  False    False\n ..    ...                      ...    ...     ...    ...      ...\n 111  9512        amex pelelink opi  False   False  False    False\n 112  9513  mastercard pelelink opi   True   False  False    False\n 113  9514    isracard pelelink opi  False   False  False    False\n 114  9515      diners pelelink opi   True   False  False    False\n 115  9516      diners pelelink opi  False   False  False    False\n \n [87 rows x 6 columns],\n (87, 6))"
          },
          "metadata": {}
        }
      ],
      "execution_count": 19
    },
    {
      "cell_type": "code",
      "source": "",
      "metadata": {
        "trusted": true
      },
      "outputs": [],
      "execution_count": null
    },
    {
      "cell_type": "code",
      "source": "df_visa = df_cards.loc[df_cards[\"descr\"].str.contains('visa')]\ndf_visa, df_visa.shape",
      "metadata": {
        "trusted": true
      },
      "outputs": [
        {
          "execution_count": 20,
          "output_type": "execute_result",
          "data": {
            "text/plain": "(     code              descr    usd  online    pos  parking\n 6    9004               visa   True   False  False    False\n 12   9012               visa  False   False  False    False\n 19   9022      visa simphony  False   False  False    False\n 32   9122   visa sfc deposit   True   False  False    False\n 33   9123   visa sfc deposit  False   False  False    False\n 41   9201               visa   True   False  False    False\n 45   9205               visa  False   False  False    False\n 50   9210            visaopi   True   False  False    False\n 54   9214            visaopi  False   False  False    False\n 58   9218         visa eshop   True   False  False    False\n 59   9219         visa eshop  False   False  False    False\n 62   9250       parking visa  False   False  False     True\n 70   9304               visa  False   False   True    False\n 82   9351               visa  False   False   True    False\n 86   9355               visa   True   False   True    False\n 92   9403        visa online   True    True  False    False\n 93   9404        visa online  False    True  False    False\n 99   9500      visa pelelink   True   False  False    False\n 100  9501      visa pelelink  False   False  False    False\n 107  9508  visa pelelink opi   True   False  False    False\n 108  9509  visa pelelink opi  False   False  False    False,\n (21, 6))"
          },
          "metadata": {}
        }
      ],
      "execution_count": 20
    },
    {
      "cell_type": "code",
      "source": "df_mastercard = df_cards.loc[\n        df_cards[\"descr\"].str.contains('mastercard') | \n        df_cards[\"descr\"].str.contains('isracard')\n    ]\ndf_mastercard, df_mastercard.shape",
      "metadata": {
        "trusted": true
      },
      "outputs": [
        {
          "execution_count": 21,
          "output_type": "execute_result",
          "data": {
            "text/plain": "(     code                    descr    usd  online    pos  parking\n 7    9005               mastercard   True   False  False    False\n 15   9015               mastercard  False   False  False    False\n 21   9025      mastercard simphony  False   False  False    False\n 36   9126   mastercard sfc deposit   True   False  False    False\n 37   9127     isracard sfc deposit  False   False  False    False\n 42   9202               mastercard   True   False  False    False\n 46   9206                 isracard  False   False  False    False\n 48   9208               mastercard  False   False  False    False\n 51   9211            mastercardopi   True   False  False    False\n 55   9215              isracardopi  False   False  False    False\n 57   9217            mastercardopi  False   False  False    False\n 60   9220         mastercard eshop   True   False  False    False\n 61   9221           isracard eshop  False   False  False    False\n 63   9251         parking isracard  False   False  False     True\n 71   9305               mastercard  False   False   True    False\n 73   9307               mastercard  False   False   True    False\n 83   9352                 isracard  False   False   True    False\n 87   9356               mastercard   True   False   True    False\n 94   9405        mastercard online   True    True  False    False\n 95   9406        mastercard online  False    True  False    False\n 96   9407          isracard online  False    True  False    False\n 103  9504      mastercard pelelink   True   False  False    False\n 104  9505        isracard pelelink  False   False  False    False\n 112  9513  mastercard pelelink opi   True   False  False    False\n 113  9514    isracard pelelink opi  False   False  False    False,\n (25, 6))"
          },
          "metadata": {}
        }
      ],
      "execution_count": 21
    },
    {
      "cell_type": "code",
      "source": "df_amex = df_cards.loc[df[\"descr\"].str.contains('amex')]\ndf_amex, df_amex.shape",
      "metadata": {
        "trusted": true
      },
      "outputs": [
        {
          "execution_count": 22,
          "output_type": "execute_result",
          "data": {
            "text/plain": "(     code              descr    usd  online    pos  parking\n 5    9003               amex   True   False  False    False\n 11   9011               amex  False   False  False    False\n 18   9021      amex simphony  False   False  False    False\n 34   9124   amex sfc deposit   True   False  False    False\n 35   9125   amex sfc deposit  False   False  False    False\n 40   9200               amex   True   False  False    False\n 44   9204               amex  False   False  False    False\n 49   9209            amexopi   True   False  False    False\n 53   9213            amexopi  False   False  False    False\n 65   9253       parking amex  False   False  False     True\n 69   9303               amex  False   False   True    False\n 81   9350               amex  False   False   True    False\n 85   9354               amex   True   False   True    False\n 90   9401        amex online   True    True  False    False\n 91   9402        amex online  False    True  False    False\n 101  9502      amex pelelink   True   False  False    False\n 102  9503      amex pelelink  False   False  False    False\n 109  9510  amex pelelink opi   True   False  False    False\n 110  9511  amex pelelink opi   True   False  False    False\n 111  9512  amex pelelink opi  False   False  False    False,\n (20, 6))"
          },
          "metadata": {}
        }
      ],
      "execution_count": 22
    },
    {
      "cell_type": "code",
      "source": "df_diners = df_cards.loc[df_cards[\"descr\"].str.contains('diners')]\ndf_diners, df_diners.shape",
      "metadata": {
        "trusted": true
      },
      "outputs": [
        {
          "execution_count": 23,
          "output_type": "execute_result",
          "data": {
            "text/plain": "(     code                descr    usd  online    pos  parking\n 8    9006               diners   True   False  False    False\n 14   9014               diners  False   False  False    False\n 20   9024      diners simphony  False   False  False    False\n 38   9128   diners sfc deposit   True   False  False    False\n 39   9129   diners sfc deposit  False   False  False    False\n 43   9203               diners   True   False  False    False\n 47   9207               diners  False   False  False    False\n 52   9212            dinersopi   True   False  False    False\n 56   9216            dinersopi  False   False  False    False\n 64   9252       parking diners  False   False  False     True\n 72   9306               diners  False   False   True    False\n 84   9353               diners  False   False   True    False\n 88   9357               diners   True   False   True    False\n 97   9408        diners online   True    True  False    False\n 98   9409        diners online  False    True  False    False\n 105  9506      diners pelelink   True   False  False    False\n 106  9507      diners pelelink  False   False  False    False\n 114  9515  diners pelelink opi   True   False  False    False\n 115  9516  diners pelelink opi  False   False  False    False,\n (19, 6))"
          },
          "metadata": {}
        }
      ],
      "execution_count": 23
    },
    {
      "cell_type": "code",
      "source": "# check what else was left behind\n# ~  means NOT IN\ndf_cards.loc[\n    ~(\n        df_cards[\"descr\"].isin(df_visa[\"descr\"]) | \n        df_cards[\"descr\"].isin(df_mastercard[\"descr\"]) | \n        df_cards[\"descr\"].isin(df_amex[\"descr\"]) | \n        df_cards[\"descr\"].isin(df_diners[\"descr\"]) \n    )\n],\n",
      "metadata": {
        "trusted": true
      },
      "outputs": [
        {
          "execution_count": 24,
          "output_type": "execute_result",
          "data": {
            "text/plain": "(    code      descr    usd  online    pos  parking\n 16  9019  union pay   True   False  False    False\n 17  9020  union pay  False   False  False    False,)"
          },
          "metadata": {}
        }
      ],
      "execution_count": 24
    },
    {
      "cell_type": "code",
      "source": "df_union_pay = df_cards.loc[df_cards[\"descr\"].str.contains('union')]\ndf_union_pay, df_union_pay.shape",
      "metadata": {
        "trusted": true
      },
      "outputs": [
        {
          "execution_count": 25,
          "output_type": "execute_result",
          "data": {
            "text/plain": "(    code      descr    usd  online    pos  parking\n 16  9019  union pay   True   False  False    False\n 17  9020  union pay  False   False  False    False,\n (2, 6))"
          },
          "metadata": {}
        }
      ],
      "execution_count": 25
    },
    {
      "cell_type": "code",
      "source": "df_pos = df_cards.loc[df_cards[\"pos\"]]\ndf_pos, df_pos.shape",
      "metadata": {
        "trusted": true
      },
      "outputs": [
        {
          "execution_count": 26,
          "output_type": "execute_result",
          "data": {
            "text/plain": "(    code       descr    usd  online   pos  parking\n 69  9303        amex  False   False  True    False\n 70  9304        visa  False   False  True    False\n 71  9305  mastercard  False   False  True    False\n 72  9306      diners  False   False  True    False\n 73  9307  mastercard  False   False  True    False\n 81  9350        amex  False   False  True    False\n 82  9351        visa  False   False  True    False\n 83  9352    isracard  False   False  True    False\n 84  9353      diners  False   False  True    False\n 85  9354        amex   True   False  True    False\n 86  9355        visa   True   False  True    False\n 87  9356  mastercard   True   False  True    False\n 88  9357      diners   True   False  True    False,\n (13, 6))"
          },
          "metadata": {}
        }
      ],
      "execution_count": 26
    },
    {
      "cell_type": "code",
      "source": "df_offline = df_cards.loc[df_cards[\"online\"] == False]\ndf_offline, df_offline.shape",
      "metadata": {
        "trusted": true
      },
      "outputs": [
        {
          "execution_count": 27,
          "output_type": "execute_result",
          "data": {
            "text/plain": "(     code                    descr    usd  online    pos  parking\n 5    9003                     amex   True   False  False    False\n 6    9004                     visa   True   False  False    False\n 7    9005               mastercard   True   False  False    False\n 8    9006                   diners   True   False  False    False\n 11   9011                     amex  False   False  False    False\n ..    ...                      ...    ...     ...    ...      ...\n 111  9512        amex pelelink opi  False   False  False    False\n 112  9513  mastercard pelelink opi   True   False  False    False\n 113  9514    isracard pelelink opi  False   False  False    False\n 114  9515      diners pelelink opi   True   False  False    False\n 115  9516      diners pelelink opi  False   False  False    False\n \n [78 rows x 6 columns],\n (78, 6))"
          },
          "metadata": {}
        }
      ],
      "execution_count": 27
    },
    {
      "cell_type": "code",
      "source": "df_online = df_cards.loc[df_cards[\"online\"]]\ndf_online, df_online.shape",
      "metadata": {
        "trusted": true
      },
      "outputs": [
        {
          "execution_count": 28,
          "output_type": "execute_result",
          "data": {
            "text/plain": "(    code              descr    usd  online    pos  parking\n 90  9401        amex online   True    True  False    False\n 91  9402        amex online  False    True  False    False\n 92  9403        visa online   True    True  False    False\n 93  9404        visa online  False    True  False    False\n 94  9405  mastercard online   True    True  False    False\n 95  9406  mastercard online  False    True  False    False\n 96  9407    isracard online  False    True  False    False\n 97  9408      diners online   True    True  False    False\n 98  9409      diners online  False    True  False    False,\n (9, 6))"
          },
          "metadata": {}
        }
      ],
      "execution_count": 28
    },
    {
      "cell_type": "code",
      "source": "# check if anything left to sort out\n# ~  means NOT IN\ndf_other = df.loc[~df[\"descr\"].isin(df_cards[\"descr\"])]\ndf_other, df_other.shape",
      "metadata": {
        "trusted": true
      },
      "outputs": [
        {
          "execution_count": 29,
          "output_type": "execute_result",
          "data": {
            "text/plain": "(    code                         descr    usd   card  online    pos  parking\n 0   8997  deposit transfer at check-in  False  False   False  False    False\n 1   8998       deposit balance forward  False  False   False  False    False\n 2   9000                          cash  False  False   False  False    False\n 3   9001                         check  False  False   False  False    False\n 4   9002                   city ledger  False  False   False  False    False\n 9   9007                 delayed check  False  False   False  False    False\n 10  9008                         check   True  False   False  False    False\n 13  9013     do not use !!- go to 9206  False  False   False  False    False\n 22  9030             direct settlement  False  False   False  False    False\n 23  9100        bank benleumi/hapoalim   True  False   False  False    False\n 24  9101        bank benleumi/hapoalim  False  False   False  False    False\n 25  9102                    bank leumi  False  False   False  False    False\n 26  9103                   bank  leumi   True  False   False  False    False\n 27  9104              advanced deposit  False  False   False  False    False\n 28  9106                   sfc deposit   True  False   False  False    False\n 29  9107                   sfc deposit  False  False   False  False    False\n 30  9111       cc transfer for parking  False  False   False  False     True\n 31  9112       cc transfer for parking   True  False   False  False     True\n 66  9254            parking leumi card  False  False   False  False     True\n 67  9300                          cash   True  False   False   True    False\n 68  9301                         check  False  False   False   True    False\n 74  9310                          cash  False  False   False   True    False\n 75  9311                      cash ukp  False  False   False   True    False\n 76  9312                      cash chf  False  False   False   True    False\n 77  9313                      cash cnd  False  False   False   True    False\n 78  9314                      cash aud  False  False   False   True    False\n 79  9315                      cash jpy  False  False   False   True    False\n 80  9316                      cash eur  False  False   False   True    False\n 89  9358                        ontopo  False  False   False  False    False,\n (29, 7))"
          },
          "metadata": {}
        }
      ],
      "execution_count": 29
    },
    {
      "cell_type": "code",
      "source": "",
      "metadata": {
        "trusted": true
      },
      "outputs": [],
      "execution_count": null
    },
    {
      "cell_type": "code",
      "source": "# df_cards.to_csv(\"cards.csv\", sep=\"|\", index=False, encoding=\"utf-8\")",
      "metadata": {
        "trusted": true
      },
      "outputs": [],
      "execution_count": 30
    },
    {
      "cell_type": "code",
      "source": "# df_visa.to_csv(\"cards_visa.csv\", sep=\"|\", index=False, encoding=\"utf-8\")",
      "metadata": {
        "trusted": true
      },
      "outputs": [],
      "execution_count": 31
    },
    {
      "cell_type": "code",
      "source": "# df_mastercard.to_csv(\"cards_mastercard.csv\", sep=\"|\", index=False, encoding=\"utf-8\")",
      "metadata": {
        "trusted": true
      },
      "outputs": [],
      "execution_count": 32
    },
    {
      "cell_type": "code",
      "source": "# df_amex.to_csv(\"cards_amex.csv\", sep=\"|\", index=False, encoding=\"utf-8\")",
      "metadata": {
        "trusted": true
      },
      "outputs": [],
      "execution_count": 33
    },
    {
      "cell_type": "code",
      "source": "# df_diners.to_csv(\"cards_diners.csv\", sep=\"|\", index=False, encoding=\"utf-8\")",
      "metadata": {
        "trusted": true
      },
      "outputs": [],
      "execution_count": 34
    },
    {
      "cell_type": "code",
      "source": "# df_pos.to_csv(\"cards_pos.csv\", sep=\"|\", index=False, encoding=\"utf-8\")",
      "metadata": {
        "trusted": true
      },
      "outputs": [],
      "execution_count": 35
    },
    {
      "cell_type": "code",
      "source": "# df_online.to_csv(\"cards_online.csv\", sep=\"|\", index=False, encoding=\"utf-8\")",
      "metadata": {
        "trusted": true
      },
      "outputs": [],
      "execution_count": 36
    },
    {
      "cell_type": "code",
      "source": "# df_offline.to_csv(\"cards_offline.csv\", sep=\"|\", index=False, encoding=\"utf-8\")",
      "metadata": {
        "trusted": true
      },
      "outputs": [],
      "execution_count": 37
    },
    {
      "cell_type": "code",
      "source": "",
      "metadata": {
        "trusted": true
      },
      "outputs": [],
      "execution_count": null
    },
    {
      "cell_type": "code",
      "source": "",
      "metadata": {
        "trusted": true
      },
      "outputs": [],
      "execution_count": null
    },
    {
      "cell_type": "code",
      "source": "",
      "metadata": {
        "trusted": true
      },
      "outputs": [],
      "execution_count": null
    },
    {
      "cell_type": "code",
      "source": "",
      "metadata": {
        "trusted": true
      },
      "outputs": [],
      "execution_count": null
    }
  ]
}