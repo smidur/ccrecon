{
 "cells": [
  {
   "cell_type": "code",
   "execution_count": 1,
   "metadata": {},
   "outputs": [],
   "source": [
    "import pandas as pd"
   ]
  },
  {
   "cell_type": "code",
   "execution_count": null,
   "metadata": {},
   "outputs": [],
   "source": []
  },
  {
   "cell_type": "code",
   "execution_count": 2,
   "metadata": {},
   "outputs": [],
   "source": [
    "df = pd.read_csv(\"raw_trx_codes.csv\", sep=\"|\", dtype='str')"
   ]
  },
  {
   "cell_type": "code",
   "execution_count": 3,
   "metadata": {
    "scrolled": true
   },
   "outputs": [
    {
     "data": {
      "text/plain": [
       "Index(['Unnamed: 0', 'TRX_CODE', 'TC_GROUP', 'TC_SUBGROUP', 'D3'], dtype='object')"
      ]
     },
     "execution_count": 3,
     "metadata": {},
     "output_type": "execute_result"
    }
   ],
   "source": [
    "df.columns"
   ]
  },
  {
   "cell_type": "code",
   "execution_count": 4,
   "metadata": {},
   "outputs": [
    {
     "data": {
      "text/html": [
       "<div>\n",
       "<style scoped>\n",
       "    .dataframe tbody tr th:only-of-type {\n",
       "        vertical-align: middle;\n",
       "    }\n",
       "\n",
       "    .dataframe tbody tr th {\n",
       "        vertical-align: top;\n",
       "    }\n",
       "\n",
       "    .dataframe thead th {\n",
       "        text-align: right;\n",
       "    }\n",
       "</style>\n",
       "<table border=\"1\" class=\"dataframe\">\n",
       "  <thead>\n",
       "    <tr style=\"text-align: right;\">\n",
       "      <th></th>\n",
       "      <th>Unnamed: 0</th>\n",
       "      <th>TRX_CODE</th>\n",
       "      <th>TC_GROUP</th>\n",
       "      <th>TC_SUBGROUP</th>\n",
       "      <th>D3</th>\n",
       "    </tr>\n",
       "  </thead>\n",
       "  <tbody>\n",
       "    <tr>\n",
       "      <th>0</th>\n",
       "      <td>0</td>\n",
       "      <td>8997</td>\n",
       "      <td>PAY</td>\n",
       "      <td>INT-PAY</td>\n",
       "      <td>Deposit Transfer at Check-In</td>\n",
       "    </tr>\n",
       "    <tr>\n",
       "      <th>1</th>\n",
       "      <td>1</td>\n",
       "      <td>8998</td>\n",
       "      <td>PAY</td>\n",
       "      <td>INT-PAY</td>\n",
       "      <td>Deposit Balance Forward</td>\n",
       "    </tr>\n",
       "    <tr>\n",
       "      <th>2</th>\n",
       "      <td>2</td>\n",
       "      <td>9000</td>\n",
       "      <td>PAY</td>\n",
       "      <td>CASH</td>\n",
       "      <td>Cash</td>\n",
       "    </tr>\n",
       "    <tr>\n",
       "      <th>3</th>\n",
       "      <td>3</td>\n",
       "      <td>9001</td>\n",
       "      <td>PAY</td>\n",
       "      <td>CASH</td>\n",
       "      <td>Check NIS</td>\n",
       "    </tr>\n",
       "    <tr>\n",
       "      <th>4</th>\n",
       "      <td>4</td>\n",
       "      <td>9002</td>\n",
       "      <td>PAY</td>\n",
       "      <td>DB</td>\n",
       "      <td>City Ledger</td>\n",
       "    </tr>\n",
       "    <tr>\n",
       "      <th>...</th>\n",
       "      <td>...</td>\n",
       "      <td>...</td>\n",
       "      <td>...</td>\n",
       "      <td>...</td>\n",
       "      <td>...</td>\n",
       "    </tr>\n",
       "    <tr>\n",
       "      <th>112</th>\n",
       "      <td>112</td>\n",
       "      <td>9513</td>\n",
       "      <td>PAY</td>\n",
       "      <td>CCARD</td>\n",
       "      <td>MC USD Pele-Link OPI</td>\n",
       "    </tr>\n",
       "    <tr>\n",
       "      <th>113</th>\n",
       "      <td>113</td>\n",
       "      <td>9514</td>\n",
       "      <td>PAY</td>\n",
       "      <td>CCARD</td>\n",
       "      <td>Isracard NIS Pele-Link OPI</td>\n",
       "    </tr>\n",
       "    <tr>\n",
       "      <th>114</th>\n",
       "      <td>114</td>\n",
       "      <td>9515</td>\n",
       "      <td>PAY</td>\n",
       "      <td>CCARD</td>\n",
       "      <td>Diners USD Pele-Link OPI</td>\n",
       "    </tr>\n",
       "    <tr>\n",
       "      <th>115</th>\n",
       "      <td>115</td>\n",
       "      <td>9516</td>\n",
       "      <td>PAY</td>\n",
       "      <td>CCARD</td>\n",
       "      <td>Diners NIS Pele-Link OPI</td>\n",
       "    </tr>\n",
       "    <tr>\n",
       "      <th>116</th>\n",
       "      <td>116</td>\n",
       "      <td>NaN</td>\n",
       "      <td>NaN</td>\n",
       "      <td>NaN</td>\n",
       "      <td>NaN</td>\n",
       "    </tr>\n",
       "  </tbody>\n",
       "</table>\n",
       "<p>117 rows × 5 columns</p>\n",
       "</div>"
      ],
      "text/plain": [
       "    Unnamed: 0 TRX_CODE TC_GROUP TC_SUBGROUP                            D3\n",
       "0            0     8997      PAY     INT-PAY  Deposit Transfer at Check-In\n",
       "1            1     8998      PAY     INT-PAY       Deposit Balance Forward\n",
       "2            2     9000      PAY        CASH                          Cash\n",
       "3            3     9001      PAY        CASH                     Check NIS\n",
       "4            4     9002      PAY          DB                   City Ledger\n",
       "..         ...      ...      ...         ...                           ...\n",
       "112        112     9513      PAY       CCARD          MC USD Pele-Link OPI\n",
       "113        113     9514      PAY       CCARD    Isracard NIS Pele-Link OPI\n",
       "114        114     9515      PAY       CCARD      Diners USD Pele-Link OPI\n",
       "115        115     9516      PAY       CCARD      Diners NIS Pele-Link OPI\n",
       "116        116      NaN      NaN         NaN                           NaN\n",
       "\n",
       "[117 rows x 5 columns]"
      ]
     },
     "execution_count": 4,
     "metadata": {},
     "output_type": "execute_result"
    }
   ],
   "source": [
    "df"
   ]
  },
  {
   "cell_type": "code",
   "execution_count": 5,
   "metadata": {},
   "outputs": [],
   "source": [
    "# take only needed columns\n",
    "df = df[[\"TRX_CODE\", \"D3\"]]"
   ]
  },
  {
   "cell_type": "code",
   "execution_count": 6,
   "metadata": {},
   "outputs": [],
   "source": [
    "# rename columns for comfort\n",
    "columns_new_names = [\"code\", \"descr\"]\n",
    "df.columns = columns_new_names"
   ]
  },
  {
   "cell_type": "code",
   "execution_count": 7,
   "metadata": {},
   "outputs": [
    {
     "data": {
      "text/plain": [
       "Index(['code', 'descr'], dtype='object')"
      ]
     },
     "execution_count": 7,
     "metadata": {},
     "output_type": "execute_result"
    }
   ],
   "source": [
    "df.columns"
   ]
  },
  {
   "cell_type": "code",
   "execution_count": 8,
   "metadata": {},
   "outputs": [
    {
     "data": {
      "text/plain": [
       "(    code descr\n",
       " 116  NaN   NaN,\n",
       "     code descr\n",
       " 116  NaN   NaN)"
      ]
     },
     "execution_count": 8,
     "metadata": {},
     "output_type": "execute_result"
    }
   ],
   "source": [
    "df[df['code'].isna()], df[df['descr'].isna()],"
   ]
  },
  {
   "cell_type": "code",
   "execution_count": 9,
   "metadata": {},
   "outputs": [],
   "source": [
    "# drop NaN\n",
    "df = df.dropna()"
   ]
  },
  {
   "cell_type": "code",
   "execution_count": 10,
   "metadata": {},
   "outputs": [],
   "source": [
    "# make column strings lowercase\n",
    "df['descr'] = df['descr'].apply(lambda x: x.lower() if isinstance(x, str) else x)"
   ]
  },
  {
   "cell_type": "code",
   "execution_count": 11,
   "metadata": {},
   "outputs": [
    {
     "data": {
      "text/plain": [
       "(116, 2)"
      ]
     },
     "execution_count": 11,
     "metadata": {},
     "output_type": "execute_result"
    }
   ],
   "source": [
    "df.shape"
   ]
  },
  {
   "cell_type": "code",
   "execution_count": 12,
   "metadata": {},
   "outputs": [],
   "source": [
    "# correcting some misspelled words\n",
    "misspelled_words = ['off line', 'on line', 'pele-link', 'nis ', ' nis ', ' nis', r' \\- ', r' \\-',\n",
    "                    'american express', r'^mc', 'master card', 'isrcard', ' isr ', 'dolar-',\n",
    "                    'diners club', 'pos-mastercard', 'pos-', 'e-shop', 'euro']\n",
    "correct_words = ['offline', 'online', 'pelelink', 'ils ', ' ils ', ' ils', ' ', ' ',\n",
    "                 'amex', 'mastercard', 'mastercard', 'mastercard', ' mastercard ', 'usd',\n",
    "                 'diners', 'pos mastercard', 'pos', 'eshop', 'eur']\n",
    "\n",
    "def replace_misspelled():\n",
    "    for misspelled, correct in zip(misspelled_words, correct_words):\n",
    "        df[\"descr\"] = df[\"descr\"].str.replace(misspelled, correct, regex=True)\n",
    "\n",
    "replace_misspelled()\n"
   ]
  },
  {
   "cell_type": "code",
   "execution_count": 13,
   "metadata": {},
   "outputs": [],
   "source": [
    "# create new column for: currencie(s);\n",
    "all_usd_variations = [\" usd \", \" usd\", \"usd \"]\n",
    "df[\"usd\"] = df[\"descr\"].apply(lambda x: True if any(usd_var in x for usd_var in all_usd_variations) else False)"
   ]
  },
  {
   "cell_type": "code",
   "execution_count": 14,
   "metadata": {},
   "outputs": [],
   "source": [
    "# create new column for: transaction type(s); \n",
    "cards = [\"visa\", \"mastercard\", \"isracard\", \"amex\", \"diners\", \"union pay\"]"
   ]
  },
  {
   "cell_type": "code",
   "execution_count": 15,
   "metadata": {},
   "outputs": [],
   "source": [
    "df[\"card\"] = df[\"descr\"].apply(lambda x: True if any(card in x for card in cards) else False)\n",
    "df[\"online\"] = df[\"descr\"].apply(lambda x: True if \"online\" in x else False)\n",
    "df[\"pos\"] = df[\"descr\"].apply(lambda x: True if \"deposit\" not in x and \"pos\" in x else False)\n",
    "df[\"parking\"] = df[\"descr\"].apply(lambda x: True if \"parking\" in x else False)\n",
    "\n",
    "# other way of doing it but using numpy (import numpy as np) :\n",
    "# df[\"in_usd\"] = np.where(df[\"descr\"].str.contains(\" usd \"), True, False)"
   ]
  },
  {
   "cell_type": "code",
   "execution_count": 16,
   "metadata": {},
   "outputs": [],
   "source": [
    "trx_types: list[str] = ['visa', 'mastercard', 'amex', 'diners', 'union pay', 'cash', 'check']\n",
    "for trx in trx_types:\n",
    "    df.loc[df['descr'].str.contains(trx), 'short_descr'] = trx"
   ]
  },
  {
   "cell_type": "code",
   "execution_count": 17,
   "metadata": {},
   "outputs": [],
   "source": [
    "df['short_descr'] = df['short_descr'].fillna('other')"
   ]
  },
  {
   "cell_type": "code",
   "execution_count": 18,
   "metadata": {},
   "outputs": [],
   "source": [
    "# get rid of redundant words in description columns\n",
    "# df[\"descr\"] = df[\"descr\"].str.replace(r\"/[ ]*online[ ]*/\", \" \", regex=True)\n",
    "# df[\"descr\"] = df[\"descr\"].str.replace(r\"[ ]*ils[ ]*|[ ]*usd[ ]*\", \" \", regex=True)\n",
    "# df[\"descr\"] = df[\"descr\"].str.replace(r\"[ ]*pos[ ]+\", \"\", regex=True)\n",
    "# df[\"descr\"] = df[\"descr\"].str.replace(r\"[ ]*offline[ ]*\", \"\", regex=True)"
   ]
  },
  {
   "cell_type": "code",
   "execution_count": 19,
   "metadata": {},
   "outputs": [],
   "source": [
    "# trim whitespaces\n",
    "df['descr'] = df['descr'].apply(lambda x: x.strip() if isinstance(x, str) else x)\n",
    "df['short_descr'] = df['short_descr'].apply(lambda x: x.strip() if isinstance(x, str) else x)"
   ]
  },
  {
   "cell_type": "code",
   "execution_count": 20,
   "metadata": {},
   "outputs": [
    {
     "data": {
      "text/plain": [
       "(     code                         descr    usd   card  online    pos  parking  \\\n",
       " 0    8997  deposit transfer at check-in  False  False   False  False    False   \n",
       " 1    8998       deposit balance forward  False  False   False  False    False   \n",
       " 2    9000                          cash  False  False   False  False    False   \n",
       " 3    9001                     check ils  False  False   False  False    False   \n",
       " 4    9002                   city ledger  False  False   False  False    False   \n",
       " ..    ...                           ...    ...    ...     ...    ...      ...   \n",
       " 111  9512         amex ils pelelink opi  False   True   False  False    False   \n",
       " 112  9513   mastercard usd pelelink opi   True   True   False  False    False   \n",
       " 113  9514     isracard ils pelelink opi  False   True   False  False    False   \n",
       " 114  9515       diners usd pelelink opi   True   True   False  False    False   \n",
       " 115  9516       diners ils pelelink opi  False   True   False  False    False   \n",
       " \n",
       "     short_descr  \n",
       " 0         check  \n",
       " 1         other  \n",
       " 2          cash  \n",
       " 3         check  \n",
       " 4         other  \n",
       " ..          ...  \n",
       " 111        amex  \n",
       " 112  mastercard  \n",
       " 113       other  \n",
       " 114      diners  \n",
       " 115      diners  \n",
       " \n",
       " [116 rows x 8 columns],)"
      ]
     },
     "execution_count": 20,
     "metadata": {},
     "output_type": "execute_result"
    }
   ],
   "source": [
    "df,"
   ]
  },
  {
   "cell_type": "code",
   "execution_count": 21,
   "metadata": {},
   "outputs": [],
   "source": [
    "df_cards_columns = ['code', 'short_descr', 'usd', 'online', 'pos', 'parking', 'descr']"
   ]
  },
  {
   "cell_type": "code",
   "execution_count": 22,
   "metadata": {},
   "outputs": [],
   "source": [
    "df_cards = df.loc[df[\"card\"]]"
   ]
  },
  {
   "cell_type": "code",
   "execution_count": 23,
   "metadata": {},
   "outputs": [
    {
     "data": {
      "text/plain": [
       "(     code short_descr    usd  online    pos  parking  \\\n",
       " 5    9003        amex   True   False  False    False   \n",
       " 6    9004        visa   True   False  False    False   \n",
       " 7    9005  mastercard   True   False  False    False   \n",
       " 8    9006      diners   True   False  False    False   \n",
       " 11   9011        amex  False   False  False    False   \n",
       " ..    ...         ...    ...     ...    ...      ...   \n",
       " 111  9512        amex  False   False  False    False   \n",
       " 112  9513  mastercard   True   False  False    False   \n",
       " 113  9514       other  False   False  False    False   \n",
       " 114  9515      diners   True   False  False    False   \n",
       " 115  9516      diners  False   False  False    False   \n",
       " \n",
       "                            descr  \n",
       " 5               amex usd offline  \n",
       " 6               visa usd offline  \n",
       " 7         mastercard usd offline  \n",
       " 8             diners usd offline  \n",
       " 11              amex ils offline  \n",
       " ..                           ...  \n",
       " 111        amex ils pelelink opi  \n",
       " 112  mastercard usd pelelink opi  \n",
       " 113    isracard ils pelelink opi  \n",
       " 114      diners usd pelelink opi  \n",
       " 115      diners ils pelelink opi  \n",
       " \n",
       " [87 rows x 7 columns],\n",
       " (87, 7))"
      ]
     },
     "execution_count": 23,
     "metadata": {},
     "output_type": "execute_result"
    }
   ],
   "source": [
    "df_cards = df_cards[df_cards_columns]\n",
    "df_cards, df_cards.shape"
   ]
  },
  {
   "cell_type": "code",
   "execution_count": null,
   "metadata": {},
   "outputs": [],
   "source": []
  },
  {
   "cell_type": "code",
   "execution_count": 24,
   "metadata": {},
   "outputs": [
    {
     "data": {
      "text/plain": [
       "(     code short_descr    usd  online    pos  parking  \\\n",
       " 6    9004        visa   True   False  False    False   \n",
       " 12   9012        visa  False   False  False    False   \n",
       " 19   9022        visa  False   False  False    False   \n",
       " 32   9122        visa   True   False  False    False   \n",
       " 33   9123        visa  False   False  False    False   \n",
       " 41   9201        visa   True   False  False    False   \n",
       " 45   9205        visa  False   False  False    False   \n",
       " 50   9210        visa   True   False  False    False   \n",
       " 54   9214        visa  False   False  False    False   \n",
       " 58   9218        visa   True   False  False    False   \n",
       " 59   9219        visa  False   False  False    False   \n",
       " 62   9250        visa  False   False  False     True   \n",
       " 70   9304        visa  False   False   True    False   \n",
       " 82   9351        visa  False   False   True    False   \n",
       " 86   9355        visa   True   False   True    False   \n",
       " 92   9403        visa   True    True  False    False   \n",
       " 93   9404        visa  False    True  False    False   \n",
       " 99   9500        visa   True   False  False    False   \n",
       " 100  9501        visa  False   False  False    False   \n",
       " 107  9508        visa   True   False  False    False   \n",
       " 108  9509        visa  False   False  False    False   \n",
       " \n",
       "                          descr  \n",
       " 6             visa usd offline  \n",
       " 12            visa ils offline  \n",
       " 19   visa ils simphony offline  \n",
       " 32        visa usd sfc deposit  \n",
       " 33        visa ils sfc deposit  \n",
       " 41            visa usd offline  \n",
       " 45            visa ils offline  \n",
       " 50        visa usd offline opi  \n",
       " 54        visa ils offline opi  \n",
       " 58              visa usd eshop  \n",
       " 59              visa ils eshop  \n",
       " 62            parking visa ils  \n",
       " 70                    pos visa  \n",
       " 82                pos visa ils  \n",
       " 86                pos visa usd  \n",
       " 92             visa usd online  \n",
       " 93             visa ils online  \n",
       " 99           visa usd pelelink  \n",
       " 100          visa ils pelelink  \n",
       " 107      visa usd pelelink opi  \n",
       " 108      visa ils pelelink opi  ,\n",
       " (21, 7))"
      ]
     },
     "execution_count": 24,
     "metadata": {},
     "output_type": "execute_result"
    }
   ],
   "source": [
    "df_visa = df_cards.loc[df_cards['short_descr'] == 'visa']\n",
    "df_visa, df_visa.shape"
   ]
  },
  {
   "cell_type": "code",
   "execution_count": 25,
   "metadata": {},
   "outputs": [
    {
     "data": {
      "text/plain": [
       "(     code short_descr    usd  online    pos  parking  \\\n",
       " 7    9005  mastercard   True   False  False    False   \n",
       " 15   9015  mastercard  False   False  False    False   \n",
       " 21   9025  mastercard  False   False  False    False   \n",
       " 36   9126  mastercard   True   False  False    False   \n",
       " 42   9202  mastercard   True   False  False    False   \n",
       " 46   9206  mastercard  False   False  False    False   \n",
       " 48   9208  mastercard  False   False  False    False   \n",
       " 51   9211  mastercard   True   False  False    False   \n",
       " 55   9215  mastercard  False   False  False    False   \n",
       " 57   9217  mastercard  False   False  False    False   \n",
       " 60   9220  mastercard   True   False  False    False   \n",
       " 61   9221  mastercard  False   False  False    False   \n",
       " 63   9251  mastercard  False   False  False     True   \n",
       " 71   9305  mastercard  False   False   True    False   \n",
       " 73   9307  mastercard  False   False   True    False   \n",
       " 87   9356  mastercard   True   False   True    False   \n",
       " 94   9405  mastercard   True    True  False    False   \n",
       " 95   9406  mastercard  False    True  False    False   \n",
       " 103  9504  mastercard   True   False  False    False   \n",
       " 112  9513  mastercard   True   False  False    False   \n",
       " \n",
       "                                descr  \n",
       " 7             mastercard usd offline  \n",
       " 15            mastercard ils offline  \n",
       " 21   mastercard ils simphony offline  \n",
       " 36        mastercard usd sfc deposit  \n",
       " 42            mastercard usd offline  \n",
       " 46            mastercard ils offline  \n",
       " 48            mastercard ils offline  \n",
       " 51        mastercard usd offline opi  \n",
       " 55        mastercard ils offline opi  \n",
       " 57        mastercard ils offline opi  \n",
       " 60              mastercard usd eshop  \n",
       " 61              mastercard ils eshop  \n",
       " 63            parking mastercard ils  \n",
       " 71                    pos mastercard  \n",
       " 73                pos mastercard ils  \n",
       " 87                pos mastercard usd  \n",
       " 94             mastercard usd online  \n",
       " 95             mastercard ils online  \n",
       " 103          mastercard usd pelelink  \n",
       " 112      mastercard usd pelelink opi  ,\n",
       " (20, 7))"
      ]
     },
     "execution_count": 25,
     "metadata": {},
     "output_type": "execute_result"
    }
   ],
   "source": [
    "df_mastercard = df_cards.loc[df_cards['short_descr'] == 'mastercard']\n",
    "df_mastercard, df_mastercard.shape"
   ]
  },
  {
   "cell_type": "code",
   "execution_count": 26,
   "metadata": {},
   "outputs": [
    {
     "data": {
      "text/plain": [
       "(     code short_descr    usd  online    pos  parking  \\\n",
       " 5    9003        amex   True   False  False    False   \n",
       " 11   9011        amex  False   False  False    False   \n",
       " 18   9021        amex  False   False  False    False   \n",
       " 34   9124        amex   True   False  False    False   \n",
       " 35   9125        amex  False   False  False    False   \n",
       " 40   9200        amex   True   False  False    False   \n",
       " 44   9204        amex  False   False  False    False   \n",
       " 49   9209        amex   True   False  False    False   \n",
       " 53   9213        amex  False   False  False    False   \n",
       " 65   9253        amex  False   False  False     True   \n",
       " 69   9303        amex  False   False   True    False   \n",
       " 81   9350        amex  False   False   True    False   \n",
       " 85   9354        amex   True   False   True    False   \n",
       " 90   9401        amex   True    True  False    False   \n",
       " 91   9402        amex  False    True  False    False   \n",
       " 101  9502        amex   True   False  False    False   \n",
       " 102  9503        amex  False   False  False    False   \n",
       " 109  9510        amex   True   False  False    False   \n",
       " 110  9511        amex   True   False  False    False   \n",
       " 111  9512        amex  False   False  False    False   \n",
       " \n",
       "                          descr  \n",
       " 5             amex usd offline  \n",
       " 11            amex ils offline  \n",
       " 18   amex ils simphony offline  \n",
       " 34        amex usd sfc deposit  \n",
       " 35        amex ils sfc deposit  \n",
       " 40            amex usd offline  \n",
       " 44            amex ils offline  \n",
       " 49        amex usd offline opi  \n",
       " 53        amex ils offline opi  \n",
       " 65            parking amex ils  \n",
       " 69                pos amex ils  \n",
       " 81                pos amex ils  \n",
       " 85                pos amex usd  \n",
       " 90             amex usd online  \n",
       " 91             amex ils online  \n",
       " 101          amex usd pelelink  \n",
       " 102          amex ils pelelink  \n",
       " 109      amex usd pelelink opi  \n",
       " 110      amex usd pelelink opi  \n",
       " 111      amex ils pelelink opi  ,\n",
       " (20, 7))"
      ]
     },
     "execution_count": 26,
     "metadata": {},
     "output_type": "execute_result"
    }
   ],
   "source": [
    "df_amex = df_cards.loc[df['short_descr'] == 'amex']\n",
    "df_amex, df_amex.shape"
   ]
  },
  {
   "cell_type": "code",
   "execution_count": 27,
   "metadata": {},
   "outputs": [
    {
     "data": {
      "text/plain": [
       "(     code short_descr    usd  online    pos  parking  \\\n",
       " 8    9006      diners   True   False  False    False   \n",
       " 14   9014      diners  False   False  False    False   \n",
       " 20   9024      diners  False   False  False    False   \n",
       " 38   9128      diners   True   False  False    False   \n",
       " 39   9129      diners  False   False  False    False   \n",
       " 43   9203      diners   True   False  False    False   \n",
       " 47   9207      diners  False   False  False    False   \n",
       " 52   9212      diners   True   False  False    False   \n",
       " 56   9216      diners  False   False  False    False   \n",
       " 64   9252      diners  False   False  False     True   \n",
       " 72   9306      diners  False   False   True    False   \n",
       " 84   9353      diners  False   False   True    False   \n",
       " 88   9357      diners   True   False   True    False   \n",
       " 97   9408      diners   True    True  False    False   \n",
       " 98   9409      diners  False    True  False    False   \n",
       " 105  9506      diners   True   False  False    False   \n",
       " 106  9507      diners  False   False  False    False   \n",
       " 114  9515      diners   True   False  False    False   \n",
       " 115  9516      diners  False   False  False    False   \n",
       " \n",
       "                            descr  \n",
       " 8             diners usd offline  \n",
       " 14            diners ils offline  \n",
       " 20   diners ils simphony offline  \n",
       " 38        diners usd sfc deposit  \n",
       " 39        diners ils sfc deposit  \n",
       " 43            diners usd offline  \n",
       " 47            diners ils offline  \n",
       " 52        diners usd offline opi  \n",
       " 56        diners ils offline opi  \n",
       " 64            parking diners ils  \n",
       " 72                    pos diners  \n",
       " 84                pos diners ils  \n",
       " 88                pos diners usd  \n",
       " 97             diners usd online  \n",
       " 98             diners ils online  \n",
       " 105          diners usd pelelink  \n",
       " 106          diners ils pelelink  \n",
       " 114      diners usd pelelink opi  \n",
       " 115      diners ils pelelink opi  ,\n",
       " (19, 7))"
      ]
     },
     "execution_count": 27,
     "metadata": {},
     "output_type": "execute_result"
    }
   ],
   "source": [
    "df_diners = df_cards.loc[df_cards['short_descr'] == 'diners']\n",
    "df_diners, df_diners.shape"
   ]
  },
  {
   "cell_type": "code",
   "execution_count": 28,
   "metadata": {},
   "outputs": [
    {
     "data": {
      "text/plain": [
       "(     code short_descr    usd  online    pos  parking  \\\n",
       " 16   9019   union pay   True   False  False    False   \n",
       " 17   9020   union pay  False   False  False    False   \n",
       " 37   9127       other  False   False  False    False   \n",
       " 83   9352       other  False   False   True    False   \n",
       " 96   9407       other  False    True  False    False   \n",
       " 104  9505       other  False   False  False    False   \n",
       " 113  9514       other  False   False  False    False   \n",
       " \n",
       "                          descr  \n",
       " 16               union pay usd  \n",
       " 17               union pay ils  \n",
       " 37    isracard ils sfc deposit  \n",
       " 83            pos isracard ils  \n",
       " 96         isracard ils online  \n",
       " 104      isracard ils pelelink  \n",
       " 113  isracard ils pelelink opi  ,)"
      ]
     },
     "execution_count": 28,
     "metadata": {},
     "output_type": "execute_result"
    }
   ],
   "source": [
    "# check what else was left behind\n",
    "# ~  means NOT IN\n",
    "df_cards.loc[\n",
    "    ~(\n",
    "        df_cards[\"descr\"].isin(df_visa[\"descr\"]) | \n",
    "        df_cards[\"descr\"].isin(df_mastercard[\"descr\"]) | \n",
    "        df_cards[\"descr\"].isin(df_amex[\"descr\"]) | \n",
    "        df_cards[\"descr\"].isin(df_diners[\"descr\"]) \n",
    "    )\n",
    "],\n"
   ]
  },
  {
   "cell_type": "code",
   "execution_count": 29,
   "metadata": {},
   "outputs": [
    {
     "data": {
      "text/plain": [
       "(    code short_descr    usd  online    pos  parking          descr\n",
       " 16  9019   union pay   True   False  False    False  union pay usd\n",
       " 17  9020   union pay  False   False  False    False  union pay ils,\n",
       " (2, 7))"
      ]
     },
     "execution_count": 29,
     "metadata": {},
     "output_type": "execute_result"
    }
   ],
   "source": [
    "df_union_pay = df_cards.loc[df_cards['short_descr'] == 'union pay']\n",
    "df_union_pay, df_union_pay.shape"
   ]
  },
  {
   "cell_type": "code",
   "execution_count": 30,
   "metadata": {},
   "outputs": [
    {
     "data": {
      "text/plain": [
       "(    code short_descr    usd  online   pos  parking               descr\n",
       " 69  9303        amex  False   False  True    False        pos amex ils\n",
       " 70  9304        visa  False   False  True    False            pos visa\n",
       " 71  9305  mastercard  False   False  True    False      pos mastercard\n",
       " 72  9306      diners  False   False  True    False          pos diners\n",
       " 73  9307  mastercard  False   False  True    False  pos mastercard ils\n",
       " 81  9350        amex  False   False  True    False        pos amex ils\n",
       " 82  9351        visa  False   False  True    False        pos visa ils\n",
       " 83  9352       other  False   False  True    False    pos isracard ils\n",
       " 84  9353      diners  False   False  True    False      pos diners ils\n",
       " 85  9354        amex   True   False  True    False        pos amex usd\n",
       " 86  9355        visa   True   False  True    False        pos visa usd\n",
       " 87  9356  mastercard   True   False  True    False  pos mastercard usd\n",
       " 88  9357      diners   True   False  True    False      pos diners usd,\n",
       " (13, 7))"
      ]
     },
     "execution_count": 30,
     "metadata": {},
     "output_type": "execute_result"
    }
   ],
   "source": [
    "df_pos = df_cards.loc[df_cards[\"pos\"]]\n",
    "df_pos, df_pos.shape"
   ]
  },
  {
   "cell_type": "code",
   "execution_count": 31,
   "metadata": {},
   "outputs": [
    {
     "data": {
      "text/plain": [
       "(     code short_descr    usd  online    pos  parking  \\\n",
       " 5    9003        amex   True   False  False    False   \n",
       " 6    9004        visa   True   False  False    False   \n",
       " 7    9005  mastercard   True   False  False    False   \n",
       " 8    9006      diners   True   False  False    False   \n",
       " 11   9011        amex  False   False  False    False   \n",
       " ..    ...         ...    ...     ...    ...      ...   \n",
       " 111  9512        amex  False   False  False    False   \n",
       " 112  9513  mastercard   True   False  False    False   \n",
       " 113  9514       other  False   False  False    False   \n",
       " 114  9515      diners   True   False  False    False   \n",
       " 115  9516      diners  False   False  False    False   \n",
       " \n",
       "                            descr  \n",
       " 5               amex usd offline  \n",
       " 6               visa usd offline  \n",
       " 7         mastercard usd offline  \n",
       " 8             diners usd offline  \n",
       " 11              amex ils offline  \n",
       " ..                           ...  \n",
       " 111        amex ils pelelink opi  \n",
       " 112  mastercard usd pelelink opi  \n",
       " 113    isracard ils pelelink opi  \n",
       " 114      diners usd pelelink opi  \n",
       " 115      diners ils pelelink opi  \n",
       " \n",
       " [78 rows x 7 columns],\n",
       " (78, 7))"
      ]
     },
     "execution_count": 31,
     "metadata": {},
     "output_type": "execute_result"
    }
   ],
   "source": [
    "df_offline = df_cards.loc[df_cards[\"online\"] == False]\n",
    "df_offline, df_offline.shape"
   ]
  },
  {
   "cell_type": "code",
   "execution_count": 32,
   "metadata": {},
   "outputs": [
    {
     "data": {
      "text/plain": [
       "(    code short_descr    usd  online    pos  parking                  descr\n",
       " 90  9401        amex   True    True  False    False        amex usd online\n",
       " 91  9402        amex  False    True  False    False        amex ils online\n",
       " 92  9403        visa   True    True  False    False        visa usd online\n",
       " 93  9404        visa  False    True  False    False        visa ils online\n",
       " 94  9405  mastercard   True    True  False    False  mastercard usd online\n",
       " 95  9406  mastercard  False    True  False    False  mastercard ils online\n",
       " 96  9407       other  False    True  False    False    isracard ils online\n",
       " 97  9408      diners   True    True  False    False      diners usd online\n",
       " 98  9409      diners  False    True  False    False      diners ils online,\n",
       " (9, 7))"
      ]
     },
     "execution_count": 32,
     "metadata": {},
     "output_type": "execute_result"
    }
   ],
   "source": [
    "df_online = df_cards.loc[df_cards[\"online\"]]\n",
    "df_online, df_online.shape"
   ]
  },
  {
   "cell_type": "code",
   "execution_count": 33,
   "metadata": {},
   "outputs": [
    {
     "data": {
      "text/plain": [
       "(    code                         descr    usd   card  online    pos  parking  \\\n",
       " 0   8997  deposit transfer at check-in  False  False   False  False    False   \n",
       " 1   8998       deposit balance forward  False  False   False  False    False   \n",
       " 2   9000                          cash  False  False   False  False    False   \n",
       " 3   9001                     check ils  False  False   False  False    False   \n",
       " 4   9002                   city ledger  False  False   False  False    False   \n",
       " 9   9007             delayed check ils  False  False   False  False    False   \n",
       " 10  9008                     check usd   True  False   False  False    False   \n",
       " 13  9013     do not use !!- go to 9206  False  False   False  False    False   \n",
       " 22  9030             direct settlement  False  False   False  False    False   \n",
       " 23  9100    bank benleumi/hapoalim usd   True  False   False  False    False   \n",
       " 24  9101    bank benleumi/hapoalim ils  False  False   False  False    False   \n",
       " 25  9102                bank leumi ils  False  False   False  False    False   \n",
       " 26  9103               bank  leumi usd   True  False   False  False    False   \n",
       " 27  9104              advanced deposit  False  False   False  False    False   \n",
       " 28  9106               sfc deposit usd   True  False   False  False    False   \n",
       " 29  9107               sfc deposit ils  False  False   False  False    False   \n",
       " 30  9111   ils cc transfer for parking  False  False   False  False     True   \n",
       " 31  9112   usd cc transfer for parking   True  False   False  False     True   \n",
       " 66  9254        parking leumi card ils  False  False   False  False     True   \n",
       " 67  9300                  pos cash usd   True  False   False   True    False   \n",
       " 68  9301                     pos check  False  False   False   True    False   \n",
       " 74  9310                  pos cash ils  False  False   False   True    False   \n",
       " 75  9311                  pos cash ukp  False  False   False   True    False   \n",
       " 76  9312                  pos cash chf  False  False   False   True    False   \n",
       " 77  9313                  pos cash cnd  False  False   False   True    False   \n",
       " 78  9314                  pos cash aud  False  False   False   True    False   \n",
       " 79  9315                  pos cash jpy  False  False   False   True    False   \n",
       " 80  9316                  pos cash eur  False  False   False   True    False   \n",
       " 89  9358                        ontopo  False  False   False  False    False   \n",
       " \n",
       "    short_descr  \n",
       " 0        check  \n",
       " 1        other  \n",
       " 2         cash  \n",
       " 3        check  \n",
       " 4        other  \n",
       " 9        check  \n",
       " 10       check  \n",
       " 13       other  \n",
       " 22       other  \n",
       " 23       other  \n",
       " 24       other  \n",
       " 25       other  \n",
       " 26       other  \n",
       " 27       other  \n",
       " 28       other  \n",
       " 29       other  \n",
       " 30       other  \n",
       " 31       other  \n",
       " 66       other  \n",
       " 67        cash  \n",
       " 68       check  \n",
       " 74        cash  \n",
       " 75        cash  \n",
       " 76        cash  \n",
       " 77        cash  \n",
       " 78        cash  \n",
       " 79        cash  \n",
       " 80        cash  \n",
       " 89       other  ,\n",
       " (29, 8))"
      ]
     },
     "execution_count": 33,
     "metadata": {},
     "output_type": "execute_result"
    }
   ],
   "source": [
    "# check if anything left to sort out\n",
    "# ~  means NOT IN\n",
    "df_other = df.loc[~df[\"descr\"].isin(df_cards[\"descr\"])]\n",
    "df_other, df_other.shape"
   ]
  },
  {
   "cell_type": "code",
   "execution_count": null,
   "metadata": {},
   "outputs": [],
   "source": []
  },
  {
   "cell_type": "code",
   "execution_count": 34,
   "metadata": {},
   "outputs": [],
   "source": [
    "# df_cards.to_csv(\"cards.csv\", sep=\"|\", index=False, encoding=\"utf-8\")"
   ]
  },
  {
   "cell_type": "code",
   "execution_count": 35,
   "metadata": {},
   "outputs": [],
   "source": [
    "# df_visa.to_csv(\"cards_visa.csv\", sep=\"|\", index=False, encoding=\"utf-8\")"
   ]
  },
  {
   "cell_type": "code",
   "execution_count": 36,
   "metadata": {},
   "outputs": [],
   "source": [
    "# df_mastercard.to_csv(\"cards_mastercard.csv\", sep=\"|\", index=False, encoding=\"utf-8\")"
   ]
  },
  {
   "cell_type": "code",
   "execution_count": 37,
   "metadata": {},
   "outputs": [],
   "source": [
    "# df_amex.to_csv(\"cards_amex.csv\", sep=\"|\", index=False, encoding=\"utf-8\")"
   ]
  },
  {
   "cell_type": "code",
   "execution_count": 38,
   "metadata": {},
   "outputs": [],
   "source": [
    "# df_diners.to_csv(\"cards_diners.csv\", sep=\"|\", index=False, encoding=\"utf-8\")"
   ]
  },
  {
   "cell_type": "code",
   "execution_count": 39,
   "metadata": {},
   "outputs": [],
   "source": [
    "# df_pos.to_csv(\"cards_pos.csv\", sep=\"|\", index=False, encoding=\"utf-8\")"
   ]
  },
  {
   "cell_type": "code",
   "execution_count": 40,
   "metadata": {},
   "outputs": [],
   "source": [
    "# df_online.to_csv(\"cards_online.csv\", sep=\"|\", index=False, encoding=\"utf-8\")"
   ]
  },
  {
   "cell_type": "code",
   "execution_count": 41,
   "metadata": {},
   "outputs": [],
   "source": [
    "# df_offline.to_csv(\"cards_offline.csv\", sep=\"|\", index=False, encoding=\"utf-8\")"
   ]
  },
  {
   "cell_type": "code",
   "execution_count": null,
   "metadata": {},
   "outputs": [],
   "source": []
  },
  {
   "cell_type": "code",
   "execution_count": null,
   "metadata": {},
   "outputs": [],
   "source": []
  },
  {
   "cell_type": "code",
   "execution_count": null,
   "metadata": {},
   "outputs": [],
   "source": []
  },
  {
   "cell_type": "code",
   "execution_count": null,
   "metadata": {},
   "outputs": [],
   "source": []
  }
 ],
 "metadata": {
  "kernelspec": {
   "display_name": "Python 3 (ipykernel)",
   "language": "python",
   "name": "python3"
  },
  "language_info": {
   "codemirror_mode": {
    "name": "ipython",
    "version": 3
   },
   "file_extension": ".py",
   "mimetype": "text/x-python",
   "name": "python",
   "nbconvert_exporter": "python",
   "pygments_lexer": "ipython3",
   "version": "3.12.2"
  }
 },
 "nbformat": 4,
 "nbformat_minor": 4
}
